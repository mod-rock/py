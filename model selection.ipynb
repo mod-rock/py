{
 "cells": [
  {
   "cell_type": "markdown",
   "metadata": {},
   "source": [
    "<p><b>Q1</b></p>"
   ]
  },
  {
   "cell_type": "code",
   "execution_count": 1,
   "metadata": {},
   "outputs": [],
   "source": [
    "import pandas as pd\n",
    "import numpy as np"
   ]
  },
  {
   "cell_type": "code",
   "execution_count": 2,
   "metadata": {},
   "outputs": [
    {
     "name": "stderr",
     "output_type": "stream",
     "text": [
      "C:\\Users\\ghxye\\anaconda3\\lib\\site-packages\\IPython\\core\\interactiveshell.py:3146: DtypeWarning: Columns (0,19) have mixed types.Specify dtype option on import or set low_memory=False.\n",
      "  has_raised = await self.run_ast_nodes(code_ast.body, cell_name,\n"
     ]
    }
   ],
   "source": [
    "loanStats = pd.read_csv('LoanStats_2016Q4.csv', skiprows = 1)\n",
    "rejectStats = pd.read_csv('RejectStats_2016Q4.csv', skiprows = 1)"
   ]
  },
  {
   "cell_type": "code",
   "execution_count": 3,
   "metadata": {},
   "outputs": [
    {
     "name": "stdout",
     "output_type": "stream",
     "text": [
      "(103546, 142)\n",
      "Index(['loan_amnt', 'funded_amnt', 'funded_amnt_inv', 'term', 'int_rate',\n",
      "       'installment', 'grade', 'sub_grade', 'emp_title', 'emp_length',\n",
      "       ...\n",
      "       'orig_projected_additional_accrued_interest',\n",
      "       'hardship_payoff_balance_amount', 'hardship_last_payment_amount',\n",
      "       'debt_settlement_flag', 'debt_settlement_flag_date',\n",
      "       'settlement_status', 'settlement_date', 'settlement_amount',\n",
      "       'settlement_percentage', 'settlement_term'],\n",
      "      dtype='object', length=142)\n",
      "(1404490, 9)\n",
      "Index(['Amount Requested', 'Application Date', 'Loan Title', 'Risk_Score',\n",
      "       'Debt-To-Income Ratio', 'Zip Code', 'State', 'Employment Length',\n",
      "       'Policy Code'],\n",
      "      dtype='object')\n"
     ]
    }
   ],
   "source": [
    "loanStats = loanStats.drop(loanStats.index[-2:])\n",
    "loanStats = loanStats.drop(['id', 'member_id'], axis = 1)\n",
    "\n",
    "print(loanStats.shape)\n",
    "print(loanStats.columns)\n",
    "print(rejectStats.shape)\n",
    "print(rejectStats.columns)"
   ]
  },
  {
   "cell_type": "code",
   "execution_count": 4,
   "metadata": {},
   "outputs": [],
   "source": [
    "approved = pd.DataFrame()\n",
    "rejected = pd.DataFrame()\n",
    "\n",
    "approved['amount'] = loanStats['loan_amnt']\n",
    "rejected['amount'] = rejectStats['Amount Requested']"
   ]
  },
  {
   "cell_type": "code",
   "execution_count": 5,
   "metadata": {},
   "outputs": [],
   "source": [
    "stop_words = ['and', 'expenses', 'financing', 'loan', 'refinancing']\n",
    "approved['reason'] = loanStats['title'].apply(lambda x: 'other' if type(x) != str else '_'.join([i for i in x.lower().split() if i not in stop_words]))\n",
    "rejected['reason'] = rejectStats['Loan Title'].apply(lambda x: 'other' if type(x) != str else '_'.join([i for i in x.lower().split() if i not in stop_words]))\n",
    "convert = {'house': 'home_buying', 'moving': 'moving_relocation', 'renewable_energy': 'green', 'small_business': 'business'}\n",
    "rejected['reason'] = rejected['reason'].apply(lambda x: convert[x] if x in convert else x)"
   ]
  },
  {
   "cell_type": "code",
   "execution_count": 6,
   "metadata": {},
   "outputs": [],
   "source": [
    "approved['debt_to_income'] = loanStats['dti'].apply(lambda x: max(0.0, min(x / 100, 1.0)) if x == x else 1.0)\n",
    "rejected['debt_to_income'] = rejectStats['Debt-To-Income Ratio'].apply(lambda x: max(0.0, min(float(x[:-1]) / 100, 1.0)))"
   ]
  },
  {
   "cell_type": "code",
   "execution_count": 7,
   "metadata": {},
   "outputs": [],
   "source": [
    "approved['zip3'] = loanStats['zip_code'].apply(lambda x: x[:3] if type(x) == str else 'N/A')\n",
    "rejected['zip3'] = rejectStats['Zip Code'].apply(lambda x: x[:3] if type(x) == str else 'N/A')\n",
    "approved['state'] = loanStats['addr_state']\n",
    "rejected['state'] = rejectStats['State']"
   ]
  },
  {
   "cell_type": "code",
   "execution_count": 8,
   "metadata": {},
   "outputs": [],
   "source": [
    "approved['employ_length'] = loanStats['emp_length'].apply(lambda x: 0 if type(x) != str or x[:3] == '< 1' else int(x[:2]))\n",
    "rejected['employ_length'] = rejectStats['Employment Length'].apply(lambda x: 0 if type(x) != str or x[:3] == '< 1' else int(x[:2]))"
   ]
  },
  {
   "cell_type": "code",
   "execution_count": 9,
   "metadata": {},
   "outputs": [],
   "source": [
    "approved = pd.concat([approved, pd.get_dummies(approved['reason'], prefix = 'reason', prefix_sep = '_=_').drop('reason_=_other', axis = 1)], axis = 1).drop('reason', axis = 1)\n",
    "rejected = pd.concat([rejected, pd.get_dummies(rejected['reason'], prefix = 'reason', prefix_sep = '_=_').drop('reason_=_other', axis = 1)], axis = 1).drop('reason', axis = 1)"
   ]
  },
  {
   "cell_type": "code",
   "execution_count": 10,
   "metadata": {},
   "outputs": [
    {
     "name": "stdout",
     "output_type": "stream",
     "text": [
      "(103546, 15)\n",
      "(1404490, 15)\n"
     ]
    }
   ],
   "source": [
    "approved['approved'] = 1\n",
    "rejected['approved'] = 0\n",
    "\n",
    "data_pos = approved.drop(['zip3', 'state'], axis = 1).values\n",
    "data_neg = rejected.drop(['zip3', 'state'], axis = 1).values\n",
    "\n",
    "print(data_pos.shape)\n",
    "print(data_neg.shape)"
   ]
  },
  {
   "cell_type": "code",
   "execution_count": 11,
   "metadata": {},
   "outputs": [
    {
     "data": {
      "text/plain": [
       "array([[4.500e+03, 2.993e-01, 6.000e+00, ..., 0.000e+00, 0.000e+00,\n",
       "        1.000e+00],\n",
       "       [9.300e+03, 1.612e-01, 9.000e+00, ..., 0.000e+00, 0.000e+00,\n",
       "        1.000e+00],\n",
       "       [2.150e+04, 2.018e-01, 1.000e+01, ..., 0.000e+00, 0.000e+00,\n",
       "        1.000e+00],\n",
       "       ...,\n",
       "       [1.200e+03, 1.026e-01, 0.000e+00, ..., 0.000e+00, 0.000e+00,\n",
       "        0.000e+00],\n",
       "       [2.500e+04, 1.771e-01, 0.000e+00, ..., 0.000e+00, 0.000e+00,\n",
       "        0.000e+00],\n",
       "       [1.500e+04, 1.058e-01, 0.000e+00, ..., 0.000e+00, 0.000e+00,\n",
       "        0.000e+00]])"
      ]
     },
     "execution_count": 11,
     "metadata": {},
     "output_type": "execute_result"
    }
   ],
   "source": [
    "data = np.vstack((data_pos, data_neg))\n",
    "data"
   ]
  },
  {
   "cell_type": "code",
   "execution_count": 12,
   "metadata": {},
   "outputs": [],
   "source": [
    "from sklearn import model_selection\n",
    "x_train, x_test, y_train, y_test = model_selection.train_test_split(data[:,:-1], data[:,-1].astype(int), test_size = 0.5, random_state = 2020)"
   ]
  },
  {
   "cell_type": "code",
   "execution_count": 13,
   "metadata": {},
   "outputs": [],
   "source": [
    "from sklearn import preprocessing\n",
    "\n",
    "min_max_scaler = preprocessing.MinMaxScaler()\n",
    "x_train = min_max_scaler.fit_transform(x_train)\n",
    "x_test = min_max_scaler.transform(x_test)"
   ]
  },
  {
   "cell_type": "markdown",
   "metadata": {},
   "source": [
    "<p><b>Model: gradient boosting----------</b></p>\n",
    "<p> Histogram based gradient boosting classifier</p>"
   ]
  },
  {
   "cell_type": "code",
   "execution_count": 14,
   "metadata": {},
   "outputs": [],
   "source": [
    "from sklearn.experimental import enable_hist_gradient_boosting\n",
    "from sklearn.ensemble import HistGradientBoostingClassifier\n",
    "from sklearn import metrics"
   ]
  },
  {
   "cell_type": "code",
   "execution_count": 15,
   "metadata": {},
   "outputs": [],
   "source": [
    "from sklearn.metrics import fbeta_score, make_scorer\n",
    "\n",
    "fhalf_scorer = metrics.make_scorer(metrics.fbeta_score, beta = 0.5)\n",
    "grid = model_selection.GridSearchCV(HistGradientBoostingClassifier(),\n",
    "                    param_grid = {'l2_regularization': [0.01 * i for i in range(1,5)]}, scoring = fhalf_scorer, cv = 10)"
   ]
  },
  {
   "cell_type": "code",
   "execution_count": 16,
   "metadata": {},
   "outputs": [
    {
     "data": {
      "text/plain": [
       "GridSearchCV(cv=10, estimator=HistGradientBoostingClassifier(),\n",
       "             param_grid={'l2_regularization': [0.01, 0.02, 0.03, 0.04]},\n",
       "             scoring=make_scorer(fbeta_score, beta=0.5))"
      ]
     },
     "execution_count": 16,
     "metadata": {},
     "output_type": "execute_result"
    }
   ],
   "source": [
    "grid.fit(x_train, y_train)"
   ]
  },
  {
   "cell_type": "code",
   "execution_count": 17,
   "metadata": {},
   "outputs": [
    {
     "data": {
      "text/plain": [
       "{'l2_regularization': 0.02}"
      ]
     },
     "execution_count": 17,
     "metadata": {},
     "output_type": "execute_result"
    }
   ],
   "source": [
    "grid.best_params_"
   ]
  },
  {
   "cell_type": "code",
   "execution_count": 18,
   "metadata": {},
   "outputs": [],
   "source": [
    "hgbc_cla = HistGradientBoostingClassifier(l2_regularization = 0.02)\n",
    "\n",
    "hgbc_cla.fit(x_train, y_train)\n",
    "\n",
    "hgbc_y_pred = hgbc_cla.predict(x_test)"
   ]
  },
  {
   "cell_type": "code",
   "execution_count": 19,
   "metadata": {},
   "outputs": [
    {
     "data": {
      "text/plain": [
       "array([[687141,  14954],\n",
       "       [ 13448,  38475]], dtype=int64)"
      ]
     },
     "execution_count": 19,
     "metadata": {},
     "output_type": "execute_result"
    }
   ],
   "source": [
    "hgbc_cfm = metrics.confusion_matrix(y_test, hgbc_y_pred)\n",
    "hgbc_cfm"
   ]
  },
  {
   "cell_type": "code",
   "execution_count": 20,
   "metadata": {
    "scrolled": true
   },
   "outputs": [
    {
     "name": "stdout",
     "output_type": "stream",
     "text": [
      "True positive: 38475\n",
      "False positive: 14954\n",
      "True negative: 687141\n",
      "False negative: 13448\n",
      "precision: 0.720114544535739\n",
      "Recall: 0.7410010977794041\n"
     ]
    }
   ],
   "source": [
    "hgbc_tn, hgbc_fp, hgbc_fn, hgbc_tp = hgbc_cfm.ravel() # tn = true neg; fp = false pos; fn = false neg; tp = true pos\n",
    "\n",
    "precision_hgbc = hgbc_tp / (hgbc_tp + hgbc_fp)\n",
    "recall_hgbc = hgbc_tp/ (hgbc_tp + hgbc_fn)\n",
    "\n",
    "print('True positive: ' + str(hgbc_tp))\n",
    "print('False positive: ' + str(hgbc_fp))\n",
    "print('True negative: ' + str(hgbc_tn))\n",
    "print('False negative: ' + str(hgbc_fn))\n",
    "\n",
    "print('precision: ' + str(precision_hgbc))\n",
    "print('Recall: ' + str(recall_hgbc))"
   ]
  },
  {
   "cell_type": "markdown",
   "metadata": {},
   "source": [
    "<p><u>Findings:</u></p>\n",
    "<p>Precision is less than recall; focus on precision. Hence f-beta will be 0.5. </p>"
   ]
  },
  {
   "cell_type": "code",
   "execution_count": 21,
   "metadata": {},
   "outputs": [
    {
     "name": "stdout",
     "output_type": "stream",
     "text": [
      "The f0.5 xgboost score is: 0.7241971246691938\n"
     ]
    }
   ],
   "source": [
    "fhalf_hgbc = metrics.fbeta_score(y_test, hgbc_y_pred, beta = 0.5)\n",
    "print('The f0.5 xgboost score is: ' + str(fhalf_hgbc))"
   ]
  },
  {
   "cell_type": "code",
   "execution_count": 22,
   "metadata": {},
   "outputs": [],
   "source": [
    "yProb_hgbc = hgbc_cla.predict_proba(x_test)\n",
    "yProb_hgbc\n",
    "# fpr = false +ve rates; tpr = true +ve rates\n",
    "fpr_hgbc, tpr_hgbc, _ = metrics.roc_curve(y_test, yProb_hgbc[:,1])\n",
    "auc_roc_hgbc = metrics.auc(fpr_hgbc, tpr_hgbc)"
   ]
  },
  {
   "cell_type": "code",
   "execution_count": 23,
   "metadata": {},
   "outputs": [
    {
     "data": {
      "image/png": "[encoded data removed]",
      "text/plain": [
       "<Figure size 432x288 with 1 Axes>"
      ]
     },
     "metadata": {
      "needs_background": "light"
     },
     "output_type": "display_data"
    }
   ],
   "source": [
    "import matplotlib.pyplot as plt\n",
    "\n",
    "plt.plot(fpr_hgbc, tpr_hgbc, c = 'r', label = 'ROC curve for gradient boost (area = %0.4f)' % auc_roc_hgbc)\n",
    "plt.xlim([0.0, 1.1])\n",
    "plt.ylim([0.0, 1.05])\n",
    "plt.xlabel('False Positive Rate')\n",
    "plt.ylabel('True Positive Rate')\n",
    "plt.legend(loc = 'lower right')\n",
    "plt.show()"
   ]
  },
  {
   "cell_type": "code",
   "execution_count": 24,
   "metadata": {},
   "outputs": [
    {
     "name": "stdout",
     "output_type": "stream",
     "text": [
      "The Area Under the Receiver Operating Characteristic Curve (AUC) is: 0.9621156155275242\n"
     ]
    }
   ],
   "source": [
    "print('The Area Under the Receiver Operating Characteristic Curve (AUC) is:', auc_roc_hgbc)"
   ]
  },
  {
   "cell_type": "markdown",
   "metadata": {},
   "source": [
    "<p><b>Model: Bagging----------</b></p>\n",
    "<p> Bagging classifier</p>"
   ]
  },
  {
   "cell_type": "code",
   "execution_count": 25,
   "metadata": {},
   "outputs": [],
   "source": [
    "from sklearn.ensemble import BaggingClassifier"
   ]
  },
  {
   "cell_type": "code",
   "execution_count": 35,
   "metadata": {},
   "outputs": [],
   "source": [
    "fhalf_scorer = metrics.make_scorer(metrics.fbeta_score, beta = 0.5)\n",
    "grid1 = model_selection.GridSearchCV(BaggingClassifier(n_estimators = 100, n_jobs = -1),\n",
    "                    param_grid = {'max_samples': [1, 10, 100, 1000]}, scoring = fhalf_scorer, cv = 10)"
   ]
  },
  {
   "cell_type": "code",
   "execution_count": 36,
   "metadata": {},
   "outputs": [
    {
     "data": {
      "text/plain": [
       "GridSearchCV(cv=10, estimator=BaggingClassifier(n_estimators=100, n_jobs=-1),\n",
       "             param_grid={'max_samples': [1, 10, 100, 1000]},\n",
       "             scoring=make_scorer(fbeta_score, beta=0.5))"
      ]
     },
     "execution_count": 36,
     "metadata": {},
     "output_type": "execute_result"
    }
   ],
   "source": [
    "grid1.fit(x_train, y_train)"
   ]
  },
  {
   "cell_type": "code",
   "execution_count": 37,
   "metadata": {},
   "outputs": [
    {
     "data": {
      "text/plain": [
       "{'max_samples': 1000}"
      ]
     },
     "execution_count": 37,
     "metadata": {},
     "output_type": "execute_result"
    }
   ],
   "source": [
    "grid1.best_params_"
   ]
  },
  {
   "cell_type": "code",
   "execution_count": 38,
   "metadata": {},
   "outputs": [],
   "source": [
    "bag_cla = BaggingClassifier(max_samples = 1000, n_estimators = 100)\n",
    "\n",
    "bag_cla.fit(x_train, y_train)\n",
    "\n",
    "bag_y_pred = bag_cla.predict(x_test)"
   ]
  },
  {
   "cell_type": "code",
   "execution_count": 39,
   "metadata": {},
   "outputs": [
    {
     "data": {
      "text/plain": [
       "array([[685589,  16506],\n",
       "       [ 13025,  38898]], dtype=int64)"
      ]
     },
     "execution_count": 39,
     "metadata": {},
     "output_type": "execute_result"
    }
   ],
   "source": [
    "bag_cfm = metrics.confusion_matrix(y_test, bag_y_pred)\n",
    "bag_cfm"
   ]
  },
  {
   "cell_type": "code",
   "execution_count": 40,
   "metadata": {},
   "outputs": [
    {
     "name": "stdout",
     "output_type": "stream",
     "text": [
      "True positive: 38898\n",
      "False positive: 16506\n",
      "True negative: 685589\n",
      "False negative: 13025\n",
      "precision: 0.7020792722547109\n",
      "Recall: 0.7491477765152245\n"
     ]
    }
   ],
   "source": [
    "bag_tn, bag_fp, bag_fn, bag_tp = bag_cfm.ravel() # tn = true neg; fp = false pos; fn = false neg; tp = true pos\n",
    "\n",
    "precision_bag = bag_tp / (bag_tp + bag_fp)\n",
    "recall_bag = bag_tp/ (bag_tp + bag_fn)\n",
    "\n",
    "print('True positive: ' + str(bag_tp))\n",
    "print('False positive: ' + str(bag_fp))\n",
    "print('True negative: ' + str(bag_tn))\n",
    "print('False negative: ' + str(bag_fn))\n",
    "\n",
    "print('precision: ' + str(precision_bag))\n",
    "print('Recall: ' + str(recall_bag))"
   ]
  },
  {
   "cell_type": "markdown",
   "metadata": {},
   "source": [
    "<p><u>Findings:</u></p>\n",
    "<p>Precision is less precise; focus on precision. Hence f-beta will be 0.5. </p>"
   ]
  },
  {
   "cell_type": "code",
   "execution_count": 41,
   "metadata": {},
   "outputs": [
    {
     "name": "stdout",
     "output_type": "stream",
     "text": [
      "The f2 xgboost score is: 0.7110137859683628\n"
     ]
    }
   ],
   "source": [
    "fhalf_bag = metrics.fbeta_score(y_test, bag_y_pred, beta = 0.5)\n",
    "print('The f2 xgboost score is: ' + str(fhalf_bag))"
   ]
  },
  {
   "cell_type": "code",
   "execution_count": 42,
   "metadata": {},
   "outputs": [],
   "source": [
    "yProb_bag = bag_cla.predict_proba(x_test)\n",
    "yProb_bag\n",
    "# fpr = false +ve rates; tpr = true +ve rates\n",
    "fpr_bag, tpr_bag, _ = metrics.roc_curve(y_test, yProb_bag[:,1])\n",
    "auc_roc_bag = metrics.auc(fpr_bag, tpr_bag)"
   ]
  },
  {
   "cell_type": "code",
   "execution_count": 43,
   "metadata": {},
   "outputs": [
    {
     "data": {
      "image/png": "[encoded data removed]",
      "text/plain": [
       "<Figure size 432x288 with 1 Axes>"
      ]
     },
     "metadata": {
      "needs_background": "light"
     },
     "output_type": "display_data"
    }
   ],
   "source": [
    "plt.plot(fpr_bag, tpr_bag, c = 'r', label = 'ROC curve for gradient boost (area = %0.4f)' % auc_roc_bag)\n",
    "plt.xlim([0.0, 1.1])\n",
    "plt.ylim([0.0, 1.05])\n",
    "plt.xlabel('False Positive Rate')\n",
    "plt.ylabel('True Positive Rate')\n",
    "plt.legend(loc = 'lower right')\n",
    "plt.show()"
   ]
  },
  {
   "cell_type": "code",
   "execution_count": 44,
   "metadata": {},
   "outputs": [
    {
     "name": "stdout",
     "output_type": "stream",
     "text": [
      "The Area Under the Receiver Operating Characteristic Curve (AUC) is: 0.9433906282659188\n"
     ]
    }
   ],
   "source": [
    "print('The Area Under the Receiver Operating Characteristic Curve (AUC) is:', auc_roc_bag)"
   ]
  },
  {
   "cell_type": "markdown",
   "metadata": {},
   "source": [
    "### Model stacking"
   ]
  },
  {
   "cell_type": "code",
   "execution_count": 45,
   "metadata": {},
   "outputs": [],
   "source": [
    "from sklearn.ensemble import StackingClassifier, RandomForestClassifier"
   ]
  },
  {
   "cell_type": "code",
   "execution_count": 46,
   "metadata": {},
   "outputs": [],
   "source": [
    "estimators = [('hgbc', HistGradientBoostingClassifier()),\n",
    "              ('bc', BaggingClassifier(n_estimators = 100))]\n",
    "\n",
    "stackModel = StackingClassifier(estimators = estimators, \n",
    "                                final_estimator = RandomForestClassifier(n_estimators = 100, n_jobs = -1, max_depth = 3))"
   ]
  },
  {
   "cell_type": "code",
   "execution_count": 47,
   "metadata": {
    "collapsed": true
   },
   "outputs": [
    {
     "data": {
      "text/plain": [
       "{'cv': None,\n",
       " 'estimators': [('hgbc', HistGradientBoostingClassifier()),\n",
       "  ('bc', BaggingClassifier(n_estimators=100))],\n",
       " 'final_estimator__bootstrap': True,\n",
       " 'final_estimator__ccp_alpha': 0.0,\n",
       " 'final_estimator__class_weight': None,\n",
       " 'final_estimator__criterion': 'gini',\n",
       " 'final_estimator__max_depth': 3,\n",
       " 'final_estimator__max_features': 'auto',\n",
       " 'final_estimator__max_leaf_nodes': None,\n",
       " 'final_estimator__max_samples': None,\n",
       " 'final_estimator__min_impurity_decrease': 0.0,\n",
       " 'final_estimator__min_impurity_split': None,\n",
       " 'final_estimator__min_samples_leaf': 1,\n",
       " 'final_estimator__min_samples_split': 2,\n",
       " 'final_estimator__min_weight_fraction_leaf': 0.0,\n",
       " 'final_estimator__n_estimators': 100,\n",
       " 'final_estimator__n_jobs': -1,\n",
       " 'final_estimator__oob_score': False,\n",
       " 'final_estimator__random_state': None,\n",
       " 'final_estimator__verbose': 0,\n",
       " 'final_estimator__warm_start': False,\n",
       " 'final_estimator': RandomForestClassifier(max_depth=3, n_jobs=-1),\n",
       " 'n_jobs': None,\n",
       " 'passthrough': False,\n",
       " 'stack_method': 'auto',\n",
       " 'verbose': 0,\n",
       " 'hgbc': HistGradientBoostingClassifier(),\n",
       " 'bc': BaggingClassifier(n_estimators=100),\n",
       " 'hgbc__early_stopping': 'auto',\n",
       " 'hgbc__l2_regularization': 0.0,\n",
       " 'hgbc__learning_rate': 0.1,\n",
       " 'hgbc__loss': 'auto',\n",
       " 'hgbc__max_bins': 255,\n",
       " 'hgbc__max_depth': None,\n",
       " 'hgbc__max_iter': 100,\n",
       " 'hgbc__max_leaf_nodes': 31,\n",
       " 'hgbc__min_samples_leaf': 20,\n",
       " 'hgbc__monotonic_cst': None,\n",
       " 'hgbc__n_iter_no_change': 10,\n",
       " 'hgbc__random_state': None,\n",
       " 'hgbc__scoring': 'loss',\n",
       " 'hgbc__tol': 1e-07,\n",
       " 'hgbc__validation_fraction': 0.1,\n",
       " 'hgbc__verbose': 0,\n",
       " 'hgbc__warm_start': False,\n",
       " 'bc__base_estimator': None,\n",
       " 'bc__bootstrap': True,\n",
       " 'bc__bootstrap_features': False,\n",
       " 'bc__max_features': 1.0,\n",
       " 'bc__max_samples': 1.0,\n",
       " 'bc__n_estimators': 100,\n",
       " 'bc__n_jobs': None,\n",
       " 'bc__oob_score': False,\n",
       " 'bc__random_state': None,\n",
       " 'bc__verbose': 0,\n",
       " 'bc__warm_start': False}"
      ]
     },
     "execution_count": 47,
     "metadata": {},
     "output_type": "execute_result"
    }
   ],
   "source": [
    "stackModel.get_params()"
   ]
  },
  {
   "cell_type": "code",
   "execution_count": 48,
   "metadata": {},
   "outputs": [],
   "source": [
    "params = {'hgbc__l2_regularization':[0.01 * i for i in range(1,5)],\n",
    "          'bc__max_samples':[1, 10, 100, 1000],'bc__n_jobs':[-1],\n",
    "         'final_estimator__ccp_alpha':[0.01 * i for i in range(1,5)]}\n",
    "\n",
    "gridModel = model_selection.GridSearchCV(estimator = stackModel, param_grid = params, cv = 3, scoring = fhalf_scorer)"
   ]
  },
  {
   "cell_type": "code",
   "execution_count": 49,
   "metadata": {},
   "outputs": [
    {
     "data": {
      "text/plain": [
       "GridSearchCV(cv=3,\n",
       "             estimator=StackingClassifier(estimators=[('hgbc',\n",
       "                                                       HistGradientBoostingClassifier()),\n",
       "                                                      ('bc',\n",
       "                                                       BaggingClassifier(n_estimators=100))],\n",
       "                                          final_estimator=RandomForestClassifier(max_depth=3,\n",
       "                                                                                 n_jobs=-1)),\n",
       "             param_grid={'bc__max_samples': [1, 10, 100, 1000],\n",
       "                         'bc__n_jobs': [-1],\n",
       "                         'final_estimator__ccp_alpha': [0.01, 0.02, 0.03, 0.04],\n",
       "                         'hgbc__l2_regularization': [0.01, 0.02, 0.03, 0.04]},\n",
       "             scoring=make_scorer(fbeta_score, beta=0.5))"
      ]
     },
     "execution_count": 49,
     "metadata": {},
     "output_type": "execute_result"
    }
   ],
   "source": [
    "gridModel.fit(x_train, y_train)"
   ]
  },
  {
   "cell_type": "code",
   "execution_count": 50,
   "metadata": {},
   "outputs": [
    {
     "data": {
      "text/plain": [
       "{'bc__max_samples': 1,\n",
       " 'bc__n_jobs': -1,\n",
       " 'final_estimator__ccp_alpha': 0.01,\n",
       " 'hgbc__l2_regularization': 0.03}"
      ]
     },
     "execution_count": 50,
     "metadata": {},
     "output_type": "execute_result"
    }
   ],
   "source": [
    "gridModel.best_params_"
   ]
  },
  {
   "cell_type": "code",
   "execution_count": 51,
   "metadata": {},
   "outputs": [],
   "source": [
    "stackModel_1 = StackingClassifier(estimators = estimators, \n",
    "                                final_estimator = RandomForestClassifier(n_estimators = 100, n_jobs = -1, \n",
    "                                                                         max_depth = 3, ccp_alpha = 0.01))\n",
    "stackModel_1.fit(x_train, y_train)\n",
    "\n",
    "stackModel_1_y_pred = stackModel_1.predict(x_test)"
   ]
  },
  {
   "cell_type": "code",
   "execution_count": 52,
   "metadata": {},
   "outputs": [
    {
     "data": {
      "text/plain": [
       "array([[688516,  13579],\n",
       "       [ 15714,  36209]], dtype=int64)"
      ]
     },
     "execution_count": 52,
     "metadata": {},
     "output_type": "execute_result"
    }
   ],
   "source": [
    "stackModel_cfm = metrics.confusion_matrix(y_test, stackModel_1_y_pred)\n",
    "stackModel_cfm"
   ]
  },
  {
   "cell_type": "code",
   "execution_count": 53,
   "metadata": {},
   "outputs": [
    {
     "name": "stdout",
     "output_type": "stream",
     "text": [
      "True positive: 36209\n",
      "False positive: 13579\n",
      "True negative: 688516\n",
      "False negative: 15714\n",
      "precision: 0.7272635976540532\n",
      "Recall: 0.6973595516437802\n"
     ]
    }
   ],
   "source": [
    "stackModel_tn, stackModel_fp, stackModel_fn, stackModel_tp = stackModel_cfm.ravel() # tn = true neg; fp = false pos; fn = false neg; tp = true pos\n",
    "\n",
    "precision_stackModel = stackModel_tp / (stackModel_tp + stackModel_fp)\n",
    "recall_stackModel = stackModel_tp/ (stackModel_tp + stackModel_fn)\n",
    "\n",
    "print('True positive: ' + str(stackModel_tp))\n",
    "print('False positive: ' + str(stackModel_fp))\n",
    "print('True negative: ' + str(stackModel_tn))\n",
    "print('False negative: ' + str(stackModel_fn))\n",
    "\n",
    "print('precision: ' + str(precision_stackModel))\n",
    "print('Recall: ' + str(recall_stackModel))"
   ]
  },
  {
   "cell_type": "code",
   "execution_count": 54,
   "metadata": {},
   "outputs": [
    {
     "name": "stdout",
     "output_type": "stream",
     "text": [
      "The f2 xgboost score is: 0.7031419916109989\n"
     ]
    }
   ],
   "source": [
    "fhalf_stackModel = metrics.fbeta_score(y_test, stackModel_1_y_pred, beta = 2)\n",
    "print('The f2 xgboost score is: ' + str(fhalf_stackModel))"
   ]
  },
  {
   "cell_type": "code",
   "execution_count": 55,
   "metadata": {},
   "outputs": [],
   "source": [
    "yProb_stackModel = stackModel_1.predict_proba(x_test)\n",
    "\n",
    "# fpr = false +ve rates; tpr = true +ve rates\n",
    "fpr_stackModel, tpr_stackModel, _ = metrics.roc_curve(y_test, yProb_stackModel[:,1])\n",
    "auc_roc_stackModel = metrics.auc(fpr_stackModel, tpr_stackModel)"
   ]
  },
  {
   "cell_type": "code",
   "execution_count": 56,
   "metadata": {},
   "outputs": [
    {
     "data": {
      "image/png": "[encoded data removed]",
      "text/plain": [
       "<Figure size 432x288 with 1 Axes>"
      ]
     },
     "metadata": {
      "needs_background": "light"
     },
     "output_type": "display_data"
    }
   ],
   "source": [
    "plt.plot(fpr_stackModel, tpr_stackModel, c = 'r', label = 'ROC curve for gradient boost (area = %0.4f)' % auc_roc_stackModel)\n",
    "plt.xlim([0.0, 1.1])\n",
    "plt.ylim([0.0, 1.05])\n",
    "plt.xlabel('False Positive Rate')\n",
    "plt.ylabel('True Positive Rate')\n",
    "plt.legend(loc = 'lower right')\n",
    "plt.show()"
   ]
  },
  {
   "cell_type": "code",
   "execution_count": 57,
   "metadata": {},
   "outputs": [
    {
     "name": "stdout",
     "output_type": "stream",
     "text": [
      "The Area Under the Receiver Operating Characteristic Curve (AUC) is: 0.9007266870020035\n"
     ]
    }
   ],
   "source": [
    "print('The Area Under the Receiver Operating Characteristic Curve (AUC) is:', auc_roc_stackModel)"
   ]
  },
  {
   "cell_type": "markdown",
   "metadata": {},
   "source": [
    "<p><u>Comment</u></p>\n",
    "<p>We see that the stacked model performs worse than the other 2 base models (Histogram gradient boost AUC: 0.96, bagging AUC: 0.94). One reasoning is that the stacked model requires more models, with some models producing high predictions to offset the low errors form other models. This will lead to a convergence effect, such that an ensemble of models will eventually outperform individual base models</p>"
   ]
  },
  {
   "cell_type": "markdown",
   "metadata": {},
   "source": [
    "### Q2"
   ]
  },
  {
   "cell_type": "code",
   "execution_count": 58,
   "metadata": {},
   "outputs": [],
   "source": [
    "f = open('16zpallagi.csv', 'r')\n",
    "f.readline()\n",
    "count = {}\n",
    "for l in f.readlines():\n",
    "    s = l.split(',')\n",
    "    if s[2] == '0':\n",
    "        count[s[1], int(s[3])] = int(s[4])\n",
    "    else:\n",
    "        count['%05d' % int(s[2]), int(s[3])] = int(s[4])\n",
    "agg_count = {}\n",
    "for k, v in count.items():\n",
    "    if k[0][:3] not in agg_count:\n",
    "        agg_count[k[0][:3]] = [0] * 7\n",
    "    agg_count[k[0][:3]][k[1]] += v\n",
    "f.close()"
   ]
  },
  {
   "cell_type": "code",
   "execution_count": 59,
   "metadata": {},
   "outputs": [],
   "source": [
    "# Assume incomes bracketed are [12500, 37500, 62500, 87500, 150000, 400000]\n",
    "# 1 = $1 under $25,000\n",
    "# 2 = $25,000 under $50,000\n",
    "# 3 = $50,000 under $75,000\n",
    "# 4 = $75,000 under $100,000\n",
    "# 5 = $100,000 under $200,000\n",
    "# 6 = $200,000 or more\n",
    "\n",
    "bracket_income = [0, 12500, 37500, 62500, 87500, 150000, 400000]\n",
    "estimated_zip_income = {}\n",
    "for k, v in agg_count.items():\n",
    "    sumn, sumd = 0, 0\n",
    "    for i in range(1, 7):\n",
    "        sumn += bracket_income[i] * v[i]\n",
    "        sumd += v[i]\n",
    "    estimated_zip_income[k] = sumn / sumd"
   ]
  },
  {
   "cell_type": "code",
   "execution_count": 60,
   "metadata": {},
   "outputs": [],
   "source": [
    "approved.insert(4, 'estimated_income', approved[['zip3', 'state']].apply(lambda x: estimated_zip_income[x[0]] if x[0] in estimated_zip_income else estimated_zip_income[x[1]] if x[1] in estimated_zip_income else 0, axis = 1))\n",
    "rejected.insert(4, 'estimated_income', rejected[['zip3', 'state']].apply(lambda x: estimated_zip_income[x[0]] if x[0] in estimated_zip_income else estimated_zip_income[x[1]] if x[1] in estimated_zip_income else 0, axis = 1))\n",
    "data_pos = approved.drop(['zip3', 'state'], axis = 1).values\n",
    "data_neg = rejected.drop(['zip3', 'state'], axis = 1).values"
   ]
  },
  {
   "cell_type": "code",
   "execution_count": 61,
   "metadata": {},
   "outputs": [],
   "source": [
    "data = np.vstack((data_pos, data_neg))\n",
    "x_train, x_test, y_train, y_test = model_selection.train_test_split(data[:,:-1], data[:,-1].astype(int), test_size = 0.5, random_state = 2020)\n",
    "x_train = min_max_scaler.fit_transform(x_train)\n",
    "x_test = min_max_scaler.transform(x_test)"
   ]
  },
  {
   "cell_type": "markdown",
   "metadata": {},
   "source": [
    "Histogram based gradient boosting:"
   ]
  },
  {
   "cell_type": "code",
   "execution_count": 62,
   "metadata": {},
   "outputs": [
    {
     "data": {
      "text/plain": [
       "GridSearchCV(cv=10, estimator=HistGradientBoostingClassifier(),\n",
       "             param_grid={'l2_regularization': [0.01, 0.02, 0.03, 0.04]},\n",
       "             scoring=make_scorer(fbeta_score, beta=0.5))"
      ]
     },
     "execution_count": 62,
     "metadata": {},
     "output_type": "execute_result"
    }
   ],
   "source": [
    "grid.fit(x_train, y_train)"
   ]
  },
  {
   "cell_type": "code",
   "execution_count": 63,
   "metadata": {},
   "outputs": [
    {
     "data": {
      "text/plain": [
       "{'l2_regularization': 0.04}"
      ]
     },
     "execution_count": 63,
     "metadata": {},
     "output_type": "execute_result"
    }
   ],
   "source": [
    "grid.best_params_"
   ]
  },
  {
   "cell_type": "code",
   "execution_count": 64,
   "metadata": {},
   "outputs": [],
   "source": [
    "hgbc_cla = HistGradientBoostingClassifier(l2_regularization = 0.04)\n",
    "\n",
    "hgbc_cla.fit(x_train, y_train)\n",
    "\n",
    "hgbc_y_pred = hgbc_cla.predict(x_test)"
   ]
  },
  {
   "cell_type": "code",
   "execution_count": 65,
   "metadata": {},
   "outputs": [
    {
     "data": {
      "text/plain": [
       "array([[687710,  14385],\n",
       "       [ 13876,  38047]], dtype=int64)"
      ]
     },
     "execution_count": 65,
     "metadata": {},
     "output_type": "execute_result"
    }
   ],
   "source": [
    "hgbc_cfm = metrics.confusion_matrix(y_test, hgbc_y_pred)\n",
    "hgbc_cfm"
   ]
  },
  {
   "cell_type": "code",
   "execution_count": 66,
   "metadata": {},
   "outputs": [
    {
     "name": "stdout",
     "output_type": "stream",
     "text": [
      "True positive: 38047\n",
      "False positive: 14385\n",
      "True negative: 687710\n",
      "False negative: 13876\n",
      "precision: 0.7256446444919133\n",
      "Recall: 0.732758122604626\n"
     ]
    }
   ],
   "source": [
    "hgbc_tn, hgbc_fp, hgbc_fn, hgbc_tp = hgbc_cfm.ravel() # tn = true neg; fp = false pos; fn = false neg; tp = true pos\n",
    "\n",
    "precision_hgbc = hgbc_tp / (hgbc_tp + hgbc_fp)\n",
    "recall_hgbc = hgbc_tp/ (hgbc_tp + hgbc_fn)\n",
    "\n",
    "print('True positive: ' + str(hgbc_tp))\n",
    "print('False positive: ' + str(hgbc_fp))\n",
    "print('True negative: ' + str(hgbc_tn))\n",
    "print('False negative: ' + str(hgbc_fn))\n",
    "\n",
    "print('precision: ' + str(precision_hgbc))\n",
    "print('Recall: ' + str(recall_hgbc))"
   ]
  },
  {
   "cell_type": "code",
   "execution_count": 67,
   "metadata": {},
   "outputs": [
    {
     "name": "stdout",
     "output_type": "stream",
     "text": [
      "The f0.5 xgboost score is: 0.7270562696110469\n"
     ]
    }
   ],
   "source": [
    "fhalf_hgbc = metrics.fbeta_score(y_test, hgbc_y_pred, beta = 0.5)\n",
    "print('The f0.5 xgboost score is: ' + str(fhalf_hgbc))"
   ]
  },
  {
   "cell_type": "code",
   "execution_count": 68,
   "metadata": {},
   "outputs": [
    {
     "data": {
      "image/png": "[encoded data removed]",
      "text/plain": [
       "<Figure size 432x288 with 1 Axes>"
      ]
     },
     "metadata": {
      "needs_background": "light"
     },
     "output_type": "display_data"
    }
   ],
   "source": [
    "yProb_hgbc = hgbc_cla.predict_proba(x_test)\n",
    "yProb_hgbc\n",
    "# fpr = false +ve rates; tpr = true +ve rates\n",
    "fpr_hgbc, tpr_hgbc, _ = metrics.roc_curve(y_test, yProb_hgbc[:,1])\n",
    "auc_roc_hgbc = metrics.auc(fpr_hgbc, tpr_hgbc)\n",
    "\n",
    "plt.plot(fpr_hgbc, tpr_hgbc, c = 'r', label = 'ROC curve for gradient boost (area = %0.4f)' % auc_roc_hgbc)\n",
    "plt.xlim([0.0, 1.1])\n",
    "plt.ylim([0.0, 1.05])\n",
    "plt.xlabel('False Positive Rate')\n",
    "plt.ylabel('True Positive Rate')\n",
    "plt.legend(loc = 'lower right')\n",
    "plt.show()"
   ]
  },
  {
   "cell_type": "code",
   "execution_count": 69,
   "metadata": {},
   "outputs": [
    {
     "name": "stdout",
     "output_type": "stream",
     "text": [
      "The Area Under the Receiver Operating Characteristic Curve (AUC) is: 0.9628830655920753\n"
     ]
    }
   ],
   "source": [
    "print('The Area Under the Receiver Operating Characteristic Curve (AUC) is:', auc_roc_hgbc)"
   ]
  },
  {
   "cell_type": "markdown",
   "metadata": {},
   "source": [
    "<p>Bagging classifier:</p>"
   ]
  },
  {
   "cell_type": "code",
   "execution_count": 70,
   "metadata": {},
   "outputs": [
    {
     "data": {
      "text/plain": [
       "GridSearchCV(cv=10, estimator=BaggingClassifier(n_estimators=100, n_jobs=-1),\n",
       "             param_grid={'max_samples': [1, 10, 100, 1000]},\n",
       "             scoring=make_scorer(fbeta_score, beta=0.5))"
      ]
     },
     "execution_count": 70,
     "metadata": {},
     "output_type": "execute_result"
    }
   ],
   "source": [
    "grid1.fit(x_train, y_train)"
   ]
  },
  {
   "cell_type": "code",
   "execution_count": 71,
   "metadata": {},
   "outputs": [
    {
     "data": {
      "text/plain": [
       "{'max_samples': 1000}"
      ]
     },
     "execution_count": 71,
     "metadata": {},
     "output_type": "execute_result"
    }
   ],
   "source": [
    "grid1.best_params_"
   ]
  },
  {
   "cell_type": "code",
   "execution_count": 72,
   "metadata": {},
   "outputs": [],
   "source": [
    "bag_cla = BaggingClassifier(max_samples = 10**3, n_estimators = 100)\n",
    "\n",
    "bag_cla.fit(x_train, y_train)\n",
    "\n",
    "bag_y_pred = bag_cla.predict(x_test)"
   ]
  },
  {
   "cell_type": "code",
   "execution_count": 73,
   "metadata": {},
   "outputs": [
    {
     "data": {
      "text/plain": [
       "array([[685106,  16989],\n",
       "       [ 12823,  39100]], dtype=int64)"
      ]
     },
     "execution_count": 73,
     "metadata": {},
     "output_type": "execute_result"
    }
   ],
   "source": [
    "bag_cfm = metrics.confusion_matrix(y_test, bag_y_pred)\n",
    "bag_cfm"
   ]
  },
  {
   "cell_type": "code",
   "execution_count": 74,
   "metadata": {},
   "outputs": [
    {
     "name": "stdout",
     "output_type": "stream",
     "text": [
      "True positive: 39100\n",
      "False positive: 16989\n",
      "True negative: 685106\n",
      "False negative: 12823\n",
      "precision: 0.6971063844960688\n",
      "Recall: 0.753038152649115\n"
     ]
    }
   ],
   "source": [
    "bag_tn, bag_fp, bag_fn, bag_tp = bag_cfm.ravel() # tn = true neg; fp = false pos; fn = false neg; tp = true pos\n",
    "\n",
    "precision_bag = bag_tp / (bag_tp + bag_fp)\n",
    "recall_bag = bag_tp/ (bag_tp + bag_fn)\n",
    "\n",
    "print('True positive: ' + str(bag_tp))\n",
    "print('False positive: ' + str(bag_fp))\n",
    "print('True negative: ' + str(bag_tn))\n",
    "print('False negative: ' + str(bag_fn))\n",
    "\n",
    "print('precision: ' + str(precision_bag))\n",
    "print('Recall: ' + str(recall_bag))"
   ]
  },
  {
   "cell_type": "code",
   "execution_count": 87,
   "metadata": {},
   "outputs": [
    {
     "name": "stdout",
     "output_type": "stream",
     "text": [
      "The f0.5 xgboost score is: 0.7076180238092653\n"
     ]
    }
   ],
   "source": [
    "fhalf_bag = metrics.fbeta_score(y_test, bag_y_pred, beta = 0.5)\n",
    "print('The f0.5 xgboost score is: ' + str(fhalf_bag))"
   ]
  },
  {
   "cell_type": "code",
   "execution_count": 76,
   "metadata": {},
   "outputs": [
    {
     "data": {
      "image/png": "[encoded data removed]",
      "text/plain": [
       "<Figure size 432x288 with 1 Axes>"
      ]
     },
     "metadata": {
      "needs_background": "light"
     },
     "output_type": "display_data"
    }
   ],
   "source": [
    "yProb_bag = bag_cla.predict_proba(x_test)\n",
    "yProb_bag\n",
    "# fpr = false +ve rates; tpr = true +ve rates\n",
    "fpr_bag, tpr_bag, _ = metrics.roc_curve(y_test, yProb_bag[:,1])\n",
    "auc_roc_bag = metrics.auc(fpr_bag, tpr_bag)\n",
    "\n",
    "plt.plot(fpr_bag, tpr_bag, c = 'r', label = 'ROC curve for gradient boost (area = %0.4f)' % auc_roc_bag)\n",
    "plt.xlim([0.0, 1.1])\n",
    "plt.ylim([0.0, 1.05])\n",
    "plt.xlabel('False Positive Rate')\n",
    "plt.ylabel('True Positive Rate')\n",
    "plt.legend(loc = 'lower right')\n",
    "plt.show()"
   ]
  },
  {
   "cell_type": "code",
   "execution_count": 77,
   "metadata": {},
   "outputs": [
    {
     "name": "stdout",
     "output_type": "stream",
     "text": [
      "The Area Under the Receiver Operating Characteristic Curve (AUC) is: 0.9367385102299375\n"
     ]
    }
   ],
   "source": [
    "print('The Area Under the Receiver Operating Characteristic Curve (AUC) is:', auc_roc_bag)"
   ]
  },
  {
   "cell_type": "markdown",
   "metadata": {},
   "source": [
    "### Model Stacking"
   ]
  },
  {
   "cell_type": "code",
   "execution_count": 78,
   "metadata": {},
   "outputs": [],
   "source": [
    "params = {'hgbc__l2_regularization':[0.01 * i for i in range(1,5)],\n",
    "          'bc__max_samples':[1, 10, 100, 1000],'bc__n_jobs':[-1],\n",
    "         'final_estimator__ccp_alpha':[0.01 * i for i in range(1,5)]}\n",
    "\n",
    "gridModel = model_selection.GridSearchCV(estimator = stackModel, param_grid = params, cv = 3, scoring = fhalf_scorer)"
   ]
  },
  {
   "cell_type": "code",
   "execution_count": 79,
   "metadata": {},
   "outputs": [
    {
     "data": {
      "text/plain": [
       "GridSearchCV(cv=3,\n",
       "             estimator=StackingClassifier(estimators=[('hgbc',\n",
       "                                                       HistGradientBoostingClassifier()),\n",
       "                                                      ('bc',\n",
       "                                                       BaggingClassifier(n_estimators=100))],\n",
       "                                          final_estimator=RandomForestClassifier(max_depth=3,\n",
       "                                                                                 n_jobs=-1)),\n",
       "             param_grid={'bc__max_samples': [1, 10, 100, 1000],\n",
       "                         'bc__n_jobs': [-1],\n",
       "                         'final_estimator__ccp_alpha': [0.01, 0.02, 0.03, 0.04],\n",
       "                         'hgbc__l2_regularization': [0.01, 0.02, 0.03, 0.04]},\n",
       "             scoring=make_scorer(fbeta_score, beta=0.5))"
      ]
     },
     "execution_count": 79,
     "metadata": {},
     "output_type": "execute_result"
    }
   ],
   "source": [
    "gridModel.fit(x_train, y_train)"
   ]
  },
  {
   "cell_type": "code",
   "execution_count": 80,
   "metadata": {},
   "outputs": [
    {
     "data": {
      "text/plain": [
       "{'bc__max_samples': 1,\n",
       " 'bc__n_jobs': -1,\n",
       " 'final_estimator__ccp_alpha': 0.02,\n",
       " 'hgbc__l2_regularization': 0.03}"
      ]
     },
     "execution_count": 80,
     "metadata": {},
     "output_type": "execute_result"
    }
   ],
   "source": [
    "gridModel.best_params_"
   ]
  },
  {
   "cell_type": "code",
   "execution_count": 81,
   "metadata": {},
   "outputs": [],
   "source": [
    "stackModel_1 = StackingClassifier(estimators = estimators, \n",
    "                                final_estimator = RandomForestClassifier(n_estimators = 100, n_jobs = -1, \n",
    "                                                                         max_depth = 3, ccp_alpha = 0.02))\n",
    "stackModel_1.fit(x_train, y_train)\n",
    "\n",
    "stackModel_1_y_pred = stackModel_1.predict(x_test)"
   ]
  },
  {
   "cell_type": "code",
   "execution_count": 82,
   "metadata": {},
   "outputs": [
    {
     "data": {
      "text/plain": [
       "array([[687862,  14233],\n",
       "       [ 14444,  37479]], dtype=int64)"
      ]
     },
     "execution_count": 82,
     "metadata": {},
     "output_type": "execute_result"
    }
   ],
   "source": [
    "stackModel_cfm = metrics.confusion_matrix(y_test, stackModel_1_y_pred)\n",
    "stackModel_cfm"
   ]
  },
  {
   "cell_type": "code",
   "execution_count": 83,
   "metadata": {},
   "outputs": [
    {
     "name": "stdout",
     "output_type": "stream",
     "text": [
      "True positive: 37479\n",
      "False positive: 14233\n",
      "True negative: 687862\n",
      "False negative: 14444\n",
      "precision: 0.7247640779702971\n",
      "Recall: 0.7218188471390328\n"
     ]
    }
   ],
   "source": [
    "stackModel_tn, stackModel_fp, stackModel_fn, stackModel_tp = stackModel_cfm.ravel() # tn = true neg; fp = false pos; fn = false neg; tp = true pos\n",
    "\n",
    "precision_stackModel = stackModel_tp / (stackModel_tp + stackModel_fp)\n",
    "recall_stackModel = stackModel_tp/ (stackModel_tp + stackModel_fn)\n",
    "\n",
    "print('True positive: ' + str(stackModel_tp))\n",
    "print('False positive: ' + str(stackModel_fp))\n",
    "print('True negative: ' + str(stackModel_tn))\n",
    "print('False negative: ' + str(stackModel_fn))\n",
    "\n",
    "print('precision: ' + str(precision_stackModel))\n",
    "print('Recall: ' + str(recall_stackModel))"
   ]
  },
  {
   "cell_type": "code",
   "execution_count": 84,
   "metadata": {},
   "outputs": [
    {
     "name": "stdout",
     "output_type": "stream",
     "text": [
      "The f2 xgboost score is: 0.7224059767775363\n"
     ]
    }
   ],
   "source": [
    "fhalf_stackModel = metrics.fbeta_score(y_test, stackModel_1_y_pred, beta = 2)\n",
    "print('The f2 xgboost score is: ' + str(fhalf_stackModel))"
   ]
  },
  {
   "cell_type": "code",
   "execution_count": 85,
   "metadata": {},
   "outputs": [
    {
     "data": {
      "image/png": "[encoded data removed]",
      "text/plain": [
       "<Figure size 432x288 with 1 Axes>"
      ]
     },
     "metadata": {
      "needs_background": "light"
     },
     "output_type": "display_data"
    }
   ],
   "source": [
    "yProb_stackModel = stackModel_1.predict_proba(x_test)\n",
    "\n",
    "# fpr = false +ve rates; tpr = true +ve rates\n",
    "fpr_stackModel, tpr_stackModel, _ = metrics.roc_curve(y_test, yProb_stackModel[:,1])\n",
    "auc_roc_stackModel = metrics.auc(fpr_stackModel, tpr_stackModel)\n",
    "\n",
    "plt.plot(fpr_stackModel, tpr_stackModel, c = 'r', label = 'ROC curve for gradient boost (area = %0.4f)' % auc_roc_stackModel)\n",
    "plt.xlim([0.0, 1.1])\n",
    "plt.ylim([0.0, 1.05])\n",
    "plt.xlabel('False Positive Rate')\n",
    "plt.ylabel('True Positive Rate')\n",
    "plt.legend(loc = 'lower right')\n",
    "plt.show()"
   ]
  },
  {
   "cell_type": "code",
   "execution_count": 86,
   "metadata": {},
   "outputs": [
    {
     "name": "stdout",
     "output_type": "stream",
     "text": [
      "The Area Under the Receiver Operating Characteristic Curve (AUC) is: 0.8939126521331339\n"
     ]
    }
   ],
   "source": [
    "print('The Area Under the Receiver Operating Characteristic Curve (AUC) is:', auc_roc_stackModel)"
   ]
  },
  {
   "cell_type": "markdown",
   "metadata": {},
   "source": [
    "<p><b><u>Comment</u></b></p>\n",
    "<p>summarised data:</p>\n",
    "<p><u>No external data</u></p>\n",
    "Boosting (Histogram based gradient boost):\n",
    "<ol>\n",
    "    <li>precision: 0.720114544535739</li>\n",
    "    <li>Recall: 0.7410010977794041</li>\n",
    "    <li>(AUC) is: 0.9621156155275242</li>\n",
    "</ol>\n",
    "Bagging (bagging classifier):\n",
    "<ol>\n",
    "    <li>precision: 0.7020792722547109</li>\n",
    "    <li>Recall: 0.7491477765152245</li>\n",
    "    <li>(AUC) is: 0.9433906282659188</li>\n",
    "</ol>\n",
    "\n",
    "Stacked Model (Final estimator: Random forest):\n",
    "\n",
    "<ol>\n",
    "    <li>precision: 0.7272635976540532</li>\n",
    "    <li>Recall: 0.6973595516437802</li>\n",
    "    <li>(AUC) is: 0.9007266870020035</li>\n",
    "</ol>\n",
    "<p><u>With external data:</u></p>\n",
    "    \n",
    "Boosting (Histogram based gradient boost):\n",
    "<ol>\n",
    "    <li>precision: 0.7256446444919133</li>\n",
    "    <li>Recall: 0.732758122604626</li>\n",
    "    <li>(AUC) is: 0.9628830655920753</li>\n",
    "</ol>\n",
    "    \n",
    "Bagging (bagging classifier):\n",
    "<ol>\n",
    "    <li>precision: 0.6971063844960688</li>\n",
    "    <li>Recall: 0.753038152649115</li>\n",
    "    <li>(AUC) is: 0.9367385102299375</li>\n",
    "</ol>\n",
    "    \n",
    "Stacked Model (Final estimator: Random forest):\n",
    "<ol>\n",
    "    <li>precision: 0.7247640779702971</li>\n",
    "    <li>Recall: 0.7218188471390328</li>\n",
    "    <li>(AUC) is: 0.8939126521331339</li>\n",
    "</ol>\n",
    "\n",
    "<p><u>Reasoning for the lack of starked improvement with external data:</u></p>\n",
    "<p>The models chosen for both stacking and bagging were already able to classify well in the absence of external data, hence even with external data, there is no remarkable improvements.</p>\n",
    "<p>The lack of performance in stacked model could also be attributed to the need to limit the depth of the forest, due to computational time needed. The max depth was set to 3 and it already took 2.5~3 hours. I can foresee that increasing the number of trees up to an optimal depth, can improve classification performance. However I would require higher computational powered machine. Besides, the high performance of both base models in the stacked model contributed to similar AUC values with/without external data (AUC without external:0.900726 ; AUC with external:0.893912) </p>"
   ]
  }
 ],
 "metadata": {
  "kernelspec": {
   "display_name": "Python 3",
   "language": "python",
   "name": "python3"
  },
  "language_info": {
   "codemirror_mode": {
    "name": "ipython",
    "version": 3
   },
   "file_extension": ".py",
   "mimetype": "text/x-python",
   "name": "python",
   "nbconvert_exporter": "python",
   "pygments_lexer": "ipython3",
   "version": "3.8.8"
  },
  "toc": {
   "base_numbering": 1,
   "nav_menu": {},
   "number_sections": false,
   "sideBar": false,
   "skip_h1_title": false,
   "title_cell": "Table of Contents",
   "title_sidebar": "Contents",
   "toc_cell": false,
   "toc_position": {},
   "toc_section_display": false,
   "toc_window_display": false
  }
 },
 "nbformat": 4,
 "nbformat_minor": 4
}
