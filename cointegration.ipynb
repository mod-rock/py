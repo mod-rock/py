{
 "cells": [
  {
   "cell_type": "code",
   "execution_count": 1,
   "metadata": {},
   "outputs": [],
   "source": [
    "import pandas as pd\n",
    "import numpy as np"
   ]
  },
  {
   "cell_type": "code",
   "execution_count": 2,
   "metadata": {
    "scrolled": false
   },
   "outputs": [
    {
     "data": {
      "text/html": [
       "<div>\n",
       "<style scoped>\n",
       "    .dataframe tbody tr th:only-of-type {\n",
       "        vertical-align: middle;\n",
       "    }\n",
       "\n",
       "    .dataframe tbody tr th {\n",
       "        vertical-align: top;\n",
       "    }\n",
       "\n",
       "    .dataframe thead th {\n",
       "        text-align: right;\n",
       "    }\n",
       "</style>\n",
       "<table border=\"1\" class=\"dataframe\">\n",
       "  <thead>\n",
       "    <tr style=\"text-align: right;\">\n",
       "      <th></th>\n",
       "      <th>date</th>\n",
       "      <th>values</th>\n",
       "    </tr>\n",
       "  </thead>\n",
       "  <tbody>\n",
       "    <tr>\n",
       "      <th>720</th>\n",
       "      <td>1974-01-31</td>\n",
       "      <td>9.39</td>\n",
       "    </tr>\n",
       "    <tr>\n",
       "      <th>721</th>\n",
       "      <td>1974-02-28</td>\n",
       "      <td>10.02</td>\n",
       "    </tr>\n",
       "    <tr>\n",
       "      <th>722</th>\n",
       "      <td>1974-03-31</td>\n",
       "      <td>10.39</td>\n",
       "    </tr>\n",
       "    <tr>\n",
       "      <th>723</th>\n",
       "      <td>1974-04-30</td>\n",
       "      <td>10.09</td>\n",
       "    </tr>\n",
       "    <tr>\n",
       "      <th>724</th>\n",
       "      <td>1974-05-31</td>\n",
       "      <td>10.71</td>\n",
       "    </tr>\n",
       "    <tr>\n",
       "      <th>...</th>\n",
       "      <td>...</td>\n",
       "      <td>...</td>\n",
       "    </tr>\n",
       "    <tr>\n",
       "      <th>1109</th>\n",
       "      <td>2006-06-30</td>\n",
       "      <td>4.32</td>\n",
       "    </tr>\n",
       "    <tr>\n",
       "      <th>1110</th>\n",
       "      <td>2006-07-31</td>\n",
       "      <td>4.15</td>\n",
       "    </tr>\n",
       "    <tr>\n",
       "      <th>1111</th>\n",
       "      <td>2006-08-31</td>\n",
       "      <td>3.82</td>\n",
       "    </tr>\n",
       "    <tr>\n",
       "      <th>1112</th>\n",
       "      <td>2006-09-30</td>\n",
       "      <td>2.06</td>\n",
       "    </tr>\n",
       "    <tr>\n",
       "      <th>1113</th>\n",
       "      <td>2006-10-31</td>\n",
       "      <td>1.31</td>\n",
       "    </tr>\n",
       "  </tbody>\n",
       "</table>\n",
       "<p>394 rows × 2 columns</p>\n",
       "</div>"
      ],
      "text/plain": [
       "           date  values\n",
       "720  1974-01-31    9.39\n",
       "721  1974-02-28   10.02\n",
       "722  1974-03-31   10.39\n",
       "723  1974-04-30   10.09\n",
       "724  1974-05-31   10.71\n",
       "...         ...     ...\n",
       "1109 2006-06-30    4.32\n",
       "1110 2006-07-31    4.15\n",
       "1111 2006-08-31    3.82\n",
       "1112 2006-09-30    2.06\n",
       "1113 2006-10-31    1.31\n",
       "\n",
       "[394 rows x 2 columns]"
      ]
     },
     "execution_count": 2,
     "metadata": {},
     "output_type": "execute_result"
    }
   ],
   "source": [
    "inflation = pd.read_excel('CPI Y o Y United States of America Monthly Economic Time Series Profile.xls', sheet_name = 'inflation')\n",
    "inflation.date = pd.to_datetime(inflation.date, '%Y-%m-%d')\n",
    "#inflation.set_index('date', inplace = True)\n",
    "\n",
    "inflation_Jan1974_Oct2006 = inflation.loc[(inflation['date'] > '1973-12-31') & (inflation['date'] < '2006-11-30')]\n",
    "inflation_Jan1974_Oct2006"
   ]
  },
  {
   "cell_type": "code",
   "execution_count": 3,
   "metadata": {},
   "outputs": [
    {
     "data": {
      "text/html": [
       "<div>\n",
       "<style scoped>\n",
       "    .dataframe tbody tr th:only-of-type {\n",
       "        vertical-align: middle;\n",
       "    }\n",
       "\n",
       "    .dataframe tbody tr th {\n",
       "        vertical-align: top;\n",
       "    }\n",
       "\n",
       "    .dataframe thead th {\n",
       "        text-align: right;\n",
       "    }\n",
       "</style>\n",
       "<table border=\"1\" class=\"dataframe\">\n",
       "  <thead>\n",
       "    <tr style=\"text-align: right;\">\n",
       "      <th></th>\n",
       "      <th>date</th>\n",
       "      <th>rates</th>\n",
       "    </tr>\n",
       "  </thead>\n",
       "  <tbody>\n",
       "    <tr>\n",
       "      <th>49</th>\n",
       "      <td>1974-02-01</td>\n",
       "      <td>6.883333</td>\n",
       "    </tr>\n",
       "    <tr>\n",
       "      <th>50</th>\n",
       "      <td>1974-03-01</td>\n",
       "      <td>7.759524</td>\n",
       "    </tr>\n",
       "    <tr>\n",
       "      <th>51</th>\n",
       "      <td>1974-04-01</td>\n",
       "      <td>8.621905</td>\n",
       "    </tr>\n",
       "    <tr>\n",
       "      <th>52</th>\n",
       "      <td>1974-05-01</td>\n",
       "      <td>8.782273</td>\n",
       "    </tr>\n",
       "    <tr>\n",
       "      <th>53</th>\n",
       "      <td>1974-06-01</td>\n",
       "      <td>8.669500</td>\n",
       "    </tr>\n",
       "    <tr>\n",
       "      <th>...</th>\n",
       "      <td>...</td>\n",
       "      <td>...</td>\n",
       "    </tr>\n",
       "    <tr>\n",
       "      <th>438</th>\n",
       "      <td>2006-07-01</td>\n",
       "      <td>5.217500</td>\n",
       "    </tr>\n",
       "    <tr>\n",
       "      <th>439</th>\n",
       "      <td>2006-08-01</td>\n",
       "      <td>5.082609</td>\n",
       "    </tr>\n",
       "    <tr>\n",
       "      <th>440</th>\n",
       "      <td>2006-09-01</td>\n",
       "      <td>4.974500</td>\n",
       "    </tr>\n",
       "    <tr>\n",
       "      <th>441</th>\n",
       "      <td>2006-10-01</td>\n",
       "      <td>5.010000</td>\n",
       "    </tr>\n",
       "    <tr>\n",
       "      <th>442</th>\n",
       "      <td>2006-11-01</td>\n",
       "      <td>5.010952</td>\n",
       "    </tr>\n",
       "  </tbody>\n",
       "</table>\n",
       "<p>394 rows × 2 columns</p>\n",
       "</div>"
      ],
      "text/plain": [
       "          date     rates\n",
       "49  1974-02-01  6.883333\n",
       "50  1974-03-01  7.759524\n",
       "51  1974-04-01  8.621905\n",
       "52  1974-05-01  8.782273\n",
       "53  1974-06-01  8.669500\n",
       "..         ...       ...\n",
       "438 2006-07-01  5.217500\n",
       "439 2006-08-01  5.082609\n",
       "440 2006-09-01  4.974500\n",
       "441 2006-10-01  5.010000\n",
       "442 2006-11-01  5.010952\n",
       "\n",
       "[394 rows x 2 columns]"
      ]
     },
     "execution_count": 3,
     "metadata": {},
     "output_type": "execute_result"
    }
   ],
   "source": [
    "treasury_rate = pd.read_excel('CM_1year.xls', sheet_name = 'values')\n",
    "treasury_rate.date = pd.to_datetime(treasury_rate['date'])\n",
    "\n",
    "treasury_rate_Jan1974_Oct2006 = treasury_rate.loc[(treasury_rate['date'] > '1974-01-01') & (treasury_rate['date'] < '2006-12-01')]\n",
    "treasury_rate_Jan1974_Oct2006"
   ]
  },
  {
   "cell_type": "code",
   "execution_count": 4,
   "metadata": {},
   "outputs": [],
   "source": [
    "from statsmodels.tsa.stattools import adfuller"
   ]
  },
  {
   "cell_type": "code",
   "execution_count": 5,
   "metadata": {
    "scrolled": false
   },
   "outputs": [
    {
     "data": {
      "text/plain": [
       "<AxesSubplot:xlabel='date', ylabel='values'>"
      ]
     },
     "execution_count": 5,
     "metadata": {},
     "output_type": "execute_result"
    },
    {
     "data": {
      "image/png": "[encoded data removed]",
      "text/plain": [
       "<Figure size 1080x720 with 1 Axes>"
      ]
     },
     "metadata": {
      "needs_background": "light"
     },
     "output_type": "display_data"
    }
   ],
   "source": [
    "import matplotlib.pyplot as plt\n",
    "import seaborn as sns\n",
    "%matplotlib inline\n",
    "\n",
    "\n",
    "plt.figure(figsize=(15,10))\n",
    "sns.lineplot(x ='date', y='values', data = inflation_Jan1974_Oct2006, label = 'Inflation')\n",
    "sns.lineplot(x = 'date', y = 'rates', data = treasury_rate_Jan1974_Oct2006, label = 'Treasury')\n"
   ]
  },
  {
   "cell_type": "markdown",
   "metadata": {},
   "source": [
    "### Test for stationarity on treasury rates (table 1)"
   ]
  },
  {
   "cell_type": "code",
   "execution_count": 6,
   "metadata": {},
   "outputs": [
    {
     "name": "stdout",
     "output_type": "stream",
     "text": [
      "Augmented Dickey-Fuller Test:\n",
      "ADF Test Statistic : -2.1532997898558333\n",
      "p-value : 0.22362914981009813\n",
      "#Lags Used : 17\n",
      "Number of Observations Used : 376\n",
      "weak evidence against null hypothesis, time series has a unit root, indicating it is a stochastic process \n"
     ]
    }
   ],
   "source": [
    "treasury_rate_StationaryTest = adfuller(treasury_rate_Jan1974_Oct2006['rates'])\n",
    "\n",
    "print('Augmented Dickey-Fuller Test:')\n",
    "labels = ['ADF Test Statistic','p-value','#Lags Used','Number of Observations Used']\n",
    "\n",
    "for value,label in zip(treasury_rate_StationaryTest,labels):\n",
    "    print(label+' : '+str(value) )\n",
    "    \n",
    "if treasury_rate_StationaryTest[1] <= 0.05:\n",
    "    print(\"strong evidence against the null hypothesis, reject the null hypothesis. Indicating it is a non stochastic process\")\n",
    "else:\n",
    "    print(\"weak evidence against null hypothesis, time series has a unit root, indicating it is a stochastic process \")"
   ]
  },
  {
   "cell_type": "markdown",
   "metadata": {},
   "source": [
    "### Test for stationarity on inflation index (table 1)"
   ]
  },
  {
   "cell_type": "code",
   "execution_count": 7,
   "metadata": {},
   "outputs": [
    {
     "name": "stdout",
     "output_type": "stream",
     "text": [
      "Augmented Dickey-Fuller Test:\n",
      "ADF Test Statistic : -2.252290174091855\n",
      "p-value : 0.1878170639523276\n",
      "#Lags Used : 15\n",
      "Number of Observations Used : 378\n",
      "weak evidence against null hypothesis, time series has a unit root, indicating it is a stochastic process \n"
     ]
    }
   ],
   "source": [
    "inflation_index = adfuller(inflation_Jan1974_Oct2006['values'])\n",
    "\n",
    "print('Augmented Dickey-Fuller Test:')\n",
    "labels = ['ADF Test Statistic','p-value','#Lags Used','Number of Observations Used']\n",
    "\n",
    "for value,label in zip(inflation_index,labels):\n",
    "    print(label+' : '+str(value) )\n",
    "    \n",
    "if inflation_index[1] <= 0.05:\n",
    "    print(\"strong evidence against the null hypothesis, reject the null hypothesis. Indicating it is a non stochastic process\")\n",
    "else:\n",
    "    print(\"weak evidence against null hypothesis, time series has a unit root, indicating it is a stochastic process \")"
   ]
  },
  {
   "cell_type": "markdown",
   "metadata": {},
   "source": [
    "## cointegration"
   ]
  },
  {
   "cell_type": "code",
   "execution_count": 8,
   "metadata": {},
   "outputs": [],
   "source": [
    "import statsmodels.api as sm\n",
    "from statsmodels.stats.diagnostic import acorr_breusch_godfrey as bg\n",
    "from scipy.stats import chisquare"
   ]
  },
  {
   "cell_type": "markdown",
   "metadata": {},
   "source": [
    "### `treasury rates against inflation`"
   ]
  },
  {
   "cell_type": "code",
   "execution_count": 9,
   "metadata": {
    "scrolled": false
   },
   "outputs": [
    {
     "data": {
      "text/html": [
       "<table class=\"simpletable\">\n",
       "<caption>OLS Regression Results</caption>\n",
       "<tr>\n",
       "  <th>Dep. Variable:</th>            <td>y</td>        <th>  R-squared:         </th> <td>   0.454</td>\n",
       "</tr>\n",
       "<tr>\n",
       "  <th>Model:</th>                   <td>OLS</td>       <th>  Adj. R-squared:    </th> <td>   0.452</td>\n",
       "</tr>\n",
       "<tr>\n",
       "  <th>Method:</th>             <td>Least Squares</td>  <th>  F-statistic:       </th> <td>   325.4</td>\n",
       "</tr>\n",
       "<tr>\n",
       "  <th>Date:</th>             <td>Thu, 06 May 2021</td> <th>  Prob (F-statistic):</th> <td>2.15e-53</td>\n",
       "</tr>\n",
       "<tr>\n",
       "  <th>Time:</th>                 <td>22:36:17</td>     <th>  Log-Likelihood:    </th> <td> -895.56</td>\n",
       "</tr>\n",
       "<tr>\n",
       "  <th>No. Observations:</th>      <td>   394</td>      <th>  AIC:               </th> <td>   1795.</td>\n",
       "</tr>\n",
       "<tr>\n",
       "  <th>Df Residuals:</th>          <td>   392</td>      <th>  BIC:               </th> <td>   1803.</td>\n",
       "</tr>\n",
       "<tr>\n",
       "  <th>Df Model:</th>              <td>     1</td>      <th>                     </th>     <td> </td>   \n",
       "</tr>\n",
       "<tr>\n",
       "  <th>Covariance Type:</th>      <td>nonrobust</td>    <th>                     </th>     <td> </td>   \n",
       "</tr>\n",
       "</table>\n",
       "<table class=\"simpletable\">\n",
       "<tr>\n",
       "    <td></td>       <th>coef</th>     <th>std err</th>      <th>t</th>      <th>P>|t|</th>  <th>[0.025</th>    <th>0.975]</th>  \n",
       "</tr>\n",
       "<tr>\n",
       "  <th>const</th> <td>    3.4363</td> <td>    0.215</td> <td>   15.968</td> <td> 0.000</td> <td>    3.013</td> <td>    3.859</td>\n",
       "</tr>\n",
       "<tr>\n",
       "  <th>x1</th>    <td>    0.6816</td> <td>    0.038</td> <td>   18.038</td> <td> 0.000</td> <td>    0.607</td> <td>    0.756</td>\n",
       "</tr>\n",
       "</table>\n",
       "<table class=\"simpletable\">\n",
       "<tr>\n",
       "  <th>Omnibus:</th>       <td> 9.840</td> <th>  Durbin-Watson:     </th> <td>   0.055</td>\n",
       "</tr>\n",
       "<tr>\n",
       "  <th>Prob(Omnibus):</th> <td> 0.007</td> <th>  Jarque-Bera (JB):  </th> <td>  10.193</td>\n",
       "</tr>\n",
       "<tr>\n",
       "  <th>Skew:</th>          <td> 0.393</td> <th>  Prob(JB):          </th> <td> 0.00612</td>\n",
       "</tr>\n",
       "<tr>\n",
       "  <th>Kurtosis:</th>      <td> 2.952</td> <th>  Cond. No.          </th> <td>    10.6</td>\n",
       "</tr>\n",
       "</table><br/><br/>Notes:<br/>[1] Standard Errors assume that the covariance matrix of the errors is correctly specified."
      ],
      "text/plain": [
       "<class 'statsmodels.iolib.summary.Summary'>\n",
       "\"\"\"\n",
       "                            OLS Regression Results                            \n",
       "==============================================================================\n",
       "Dep. Variable:                      y   R-squared:                       0.454\n",
       "Model:                            OLS   Adj. R-squared:                  0.452\n",
       "Method:                 Least Squares   F-statistic:                     325.4\n",
       "Date:                Thu, 06 May 2021   Prob (F-statistic):           2.15e-53\n",
       "Time:                        22:36:17   Log-Likelihood:                -895.56\n",
       "No. Observations:                 394   AIC:                             1795.\n",
       "Df Residuals:                     392   BIC:                             1803.\n",
       "Df Model:                           1                                         \n",
       "Covariance Type:            nonrobust                                         \n",
       "==============================================================================\n",
       "                 coef    std err          t      P>|t|      [0.025      0.975]\n",
       "------------------------------------------------------------------------------\n",
       "const          3.4363      0.215     15.968      0.000       3.013       3.859\n",
       "x1             0.6816      0.038     18.038      0.000       0.607       0.756\n",
       "==============================================================================\n",
       "Omnibus:                        9.840   Durbin-Watson:                   0.055\n",
       "Prob(Omnibus):                  0.007   Jarque-Bera (JB):               10.193\n",
       "Skew:                           0.393   Prob(JB):                      0.00612\n",
       "Kurtosis:                       2.952   Cond. No.                         10.6\n",
       "==============================================================================\n",
       "\n",
       "Notes:\n",
       "[1] Standard Errors assume that the covariance matrix of the errors is correctly specified.\n",
       "\"\"\""
      ]
     },
     "execution_count": 9,
     "metadata": {},
     "output_type": "execute_result"
    }
   ],
   "source": [
    "regression_treasury_inflation = sm.OLS(treasury_rate_Jan1974_Oct2006['rates'].to_list(), sm.add_constant(inflation_Jan1974_Oct2006['values'].to_list())).fit()\n",
    "regression_treasury_inflation.summary()"
   ]
  },
  {
   "cell_type": "code",
   "execution_count": 10,
   "metadata": {},
   "outputs": [
    {
     "name": "stdout",
     "output_type": "stream",
     "text": [
      "Lagrange Multiplier Test for autocorrelation of residuals\n",
      "LM Test Statistic : 376.5198945680405\n",
      "LM p-value : 2.999047400356786e-70\n",
      "LM F-test statistics : 506.18788066182873\n",
      "LM F-test p-value : 6.141769935220652e-243\n",
      "Do not reject null hypothesis. Conclude there is no evidence of heteroskedasticity.\n"
     ]
    },
    {
     "name": "stderr",
     "output_type": "stream",
     "text": [
      "C:\\Users\\ghxye\\anaconda3\\lib\\site-packages\\statsmodels\\stats\\diagnostic.py:826: FutureWarning: The default value of nlags is changing.  After 0.12, this value will become min(10, nobs//5). Directly setnlags or period to silence this warning.\n",
      "  warnings.warn(\"The default value of nlags is changing.  After 0.12, \"\n"
     ]
    }
   ],
   "source": [
    "bg_treasury = bg(regression_treasury_inflation)\n",
    "\n",
    "print('Lagrange Multiplier Test for autocorrelation of residuals')\n",
    "labels = ['LM Test Statistic','LM p-value','LM F-test statistics','LM F-test p-value']\n",
    "for value,label in zip(bg_treasury,labels):\n",
    "    print(label+' : '+str(value) )\n",
    "    \n",
    "if bg(regression_treasury_inflation)[1] < chisquare(treasury_rate_Jan1974_Oct2006['rates'])[1]:\n",
    "    print('Do not reject null hypothesis. Conclude there is no evidence of heteroskedasticity.')\n",
    "else:\n",
    "    print('Reject null hypothesis. Conclude there is evidence of hetereoskedasticity')"
   ]
  },
  {
   "cell_type": "markdown",
   "metadata": {},
   "source": [
    "<b>We have ensured that comparisons between treasury interest rates to the inflation rate is homoskedastic</b>"
   ]
  },
  {
   "cell_type": "code",
   "execution_count": 11,
   "metadata": {},
   "outputs": [],
   "source": [
    "from statsmodels.tsa.vector_ar.vecm import coint_johansen, select_coint_rank as scr"
   ]
  },
  {
   "cell_type": "markdown",
   "metadata": {},
   "source": [
    "## cointegrating relationship between treasury rate and inflation test result"
   ]
  },
  {
   "cell_type": "code",
   "execution_count": 12,
   "metadata": {},
   "outputs": [
    {
     "data": {
      "text/html": [
       "<div>\n",
       "<style scoped>\n",
       "    .dataframe tbody tr th:only-of-type {\n",
       "        vertical-align: middle;\n",
       "    }\n",
       "\n",
       "    .dataframe tbody tr th {\n",
       "        vertical-align: top;\n",
       "    }\n",
       "\n",
       "    .dataframe thead th {\n",
       "        text-align: right;\n",
       "    }\n",
       "</style>\n",
       "<table border=\"1\" class=\"dataframe\">\n",
       "  <thead>\n",
       "    <tr style=\"text-align: right;\">\n",
       "      <th></th>\n",
       "      <th>rates</th>\n",
       "      <th>values</th>\n",
       "    </tr>\n",
       "  </thead>\n",
       "  <tbody>\n",
       "    <tr>\n",
       "      <th>0</th>\n",
       "      <td>6.883333</td>\n",
       "      <td>9.39</td>\n",
       "    </tr>\n",
       "    <tr>\n",
       "      <th>1</th>\n",
       "      <td>7.759524</td>\n",
       "      <td>10.02</td>\n",
       "    </tr>\n",
       "    <tr>\n",
       "      <th>2</th>\n",
       "      <td>8.621905</td>\n",
       "      <td>10.39</td>\n",
       "    </tr>\n",
       "    <tr>\n",
       "      <th>3</th>\n",
       "      <td>8.782273</td>\n",
       "      <td>10.09</td>\n",
       "    </tr>\n",
       "    <tr>\n",
       "      <th>4</th>\n",
       "      <td>8.669500</td>\n",
       "      <td>10.71</td>\n",
       "    </tr>\n",
       "    <tr>\n",
       "      <th>...</th>\n",
       "      <td>...</td>\n",
       "      <td>...</td>\n",
       "    </tr>\n",
       "    <tr>\n",
       "      <th>389</th>\n",
       "      <td>5.217500</td>\n",
       "      <td>4.32</td>\n",
       "    </tr>\n",
       "    <tr>\n",
       "      <th>390</th>\n",
       "      <td>5.082609</td>\n",
       "      <td>4.15</td>\n",
       "    </tr>\n",
       "    <tr>\n",
       "      <th>391</th>\n",
       "      <td>4.974500</td>\n",
       "      <td>3.82</td>\n",
       "    </tr>\n",
       "    <tr>\n",
       "      <th>392</th>\n",
       "      <td>5.010000</td>\n",
       "      <td>2.06</td>\n",
       "    </tr>\n",
       "    <tr>\n",
       "      <th>393</th>\n",
       "      <td>5.010952</td>\n",
       "      <td>1.31</td>\n",
       "    </tr>\n",
       "  </tbody>\n",
       "</table>\n",
       "<p>394 rows × 2 columns</p>\n",
       "</div>"
      ],
      "text/plain": [
       "        rates  values\n",
       "0    6.883333    9.39\n",
       "1    7.759524   10.02\n",
       "2    8.621905   10.39\n",
       "3    8.782273   10.09\n",
       "4    8.669500   10.71\n",
       "..        ...     ...\n",
       "389  5.217500    4.32\n",
       "390  5.082609    4.15\n",
       "391  4.974500    3.82\n",
       "392  5.010000    2.06\n",
       "393  5.010952    1.31\n",
       "\n",
       "[394 rows x 2 columns]"
      ]
     },
     "execution_count": 12,
     "metadata": {},
     "output_type": "execute_result"
    }
   ],
   "source": [
    "inflation_treasury = pd.concat([treasury_rate_Jan1974_Oct2006.reset_index()['rates'], inflation_Jan1974_Oct2006.reset_index()['values']], axis=1)\n",
    "inflation_treasury"
   ]
  },
  {
   "cell_type": "markdown",
   "metadata": {},
   "source": [
    "___________\n",
    "## T-stats of treasury rates and inflation\n",
    "<b> table 2 </b>"
   ]
  },
  {
   "cell_type": "code",
   "execution_count": 13,
   "metadata": {},
   "outputs": [
    {
     "data": {
      "text/html": [
       "<div>\n",
       "<style scoped>\n",
       "    .dataframe tbody tr th:only-of-type {\n",
       "        vertical-align: middle;\n",
       "    }\n",
       "\n",
       "    .dataframe tbody tr th {\n",
       "        vertical-align: top;\n",
       "    }\n",
       "\n",
       "    .dataframe thead th {\n",
       "        text-align: right;\n",
       "    }\n",
       "</style>\n",
       "<table border=\"1\" class=\"dataframe\">\n",
       "  <thead>\n",
       "    <tr style=\"text-align: right;\">\n",
       "      <th></th>\n",
       "      <th>J Trace</th>\n",
       "      <th>J max</th>\n",
       "    </tr>\n",
       "  </thead>\n",
       "  <tbody>\n",
       "    <tr>\n",
       "      <th>0</th>\n",
       "      <td>25.047475</td>\n",
       "      <td>20.715376</td>\n",
       "    </tr>\n",
       "    <tr>\n",
       "      <th>1</th>\n",
       "      <td>4.332100</td>\n",
       "      <td>4.332100</td>\n",
       "    </tr>\n",
       "  </tbody>\n",
       "</table>\n",
       "</div>"
      ],
      "text/plain": [
       "     J Trace      J max\n",
       "0  25.047475  20.715376\n",
       "1   4.332100   4.332100"
      ]
     },
     "execution_count": 13,
     "metadata": {},
     "output_type": "execute_result"
    }
   ],
   "source": [
    "jci_TR_infl = coint_johansen(inflation_treasury, 0, 10)\n",
    "maxEigen_stats_criticalValues_treasury_inflation = pd.DataFrame(jci_TR_infl.lr2, columns = ['J max'])\n",
    "trace_stats_treasury_inflation = pd.DataFrame(jci_TR_infl.lr1, columns = ['J Trace'])\n",
    "\n",
    "cointegration_results = pd.concat([trace_stats_treasury_inflation, maxEigen_stats_criticalValues_treasury_inflation], axis=1)\n",
    "cointegration_results"
   ]
  },
  {
   "cell_type": "markdown",
   "metadata": {},
   "source": [
    "<b> table 3 </b>"
   ]
  },
  {
   "cell_type": "code",
   "execution_count": 14,
   "metadata": {
    "scrolled": true
   },
   "outputs": [
    {
     "data": {
      "text/html": [
       "<table class=\"simpletable\">\n",
       "<caption>Johansen cointegration test using maximum eigenvalue test statistic with 5% significance level</caption>\n",
       "<tr>\n",
       "  <th>r_0</th> <th>r_1</th> <th>test statistic</th> <th>critical value</th>\n",
       "</tr>\n",
       "<tr>\n",
       "    <td>0</td>   <td>1</td>          <td>20.72</td>          <td>14.26</td>\n",
       "</tr>\n",
       "<tr>\n",
       "    <td>1</td>   <td>2</td>          <td>4.332</td>          <td>3.841</td>\n",
       "</tr>\n",
       "</table>"
      ],
      "text/plain": [
       "<class 'statsmodels.iolib.table.SimpleTable'>"
      ]
     },
     "execution_count": 14,
     "metadata": {},
     "output_type": "execute_result"
    }
   ],
   "source": [
    "scr_TR_infl = scr(inflation_treasury, 0, 10, method = 'maxeig', signif = 0.05)\n",
    "scr_TR_infl.summary()"
   ]
  },
  {
   "cell_type": "markdown",
   "metadata": {},
   "source": [
    "_______________\n",
    "### Analysis 2006 - 2020"
   ]
  },
  {
   "cell_type": "code",
   "execution_count": 15,
   "metadata": {},
   "outputs": [
    {
     "data": {
      "text/html": [
       "<div>\n",
       "<style scoped>\n",
       "    .dataframe tbody tr th:only-of-type {\n",
       "        vertical-align: middle;\n",
       "    }\n",
       "\n",
       "    .dataframe tbody tr th {\n",
       "        vertical-align: top;\n",
       "    }\n",
       "\n",
       "    .dataframe thead th {\n",
       "        text-align: right;\n",
       "    }\n",
       "</style>\n",
       "<table border=\"1\" class=\"dataframe\">\n",
       "  <thead>\n",
       "    <tr style=\"text-align: right;\">\n",
       "      <th></th>\n",
       "      <th>date</th>\n",
       "      <th>values</th>\n",
       "    </tr>\n",
       "  </thead>\n",
       "  <tbody>\n",
       "    <tr>\n",
       "      <th>1114</th>\n",
       "      <td>2006-11-30</td>\n",
       "      <td>1.97</td>\n",
       "    </tr>\n",
       "    <tr>\n",
       "      <th>1115</th>\n",
       "      <td>2006-12-31</td>\n",
       "      <td>2.54</td>\n",
       "    </tr>\n",
       "    <tr>\n",
       "      <th>1116</th>\n",
       "      <td>2007-01-31</td>\n",
       "      <td>2.08</td>\n",
       "    </tr>\n",
       "    <tr>\n",
       "      <th>1117</th>\n",
       "      <td>2007-02-28</td>\n",
       "      <td>2.42</td>\n",
       "    </tr>\n",
       "    <tr>\n",
       "      <th>1118</th>\n",
       "      <td>2007-03-31</td>\n",
       "      <td>2.78</td>\n",
       "    </tr>\n",
       "    <tr>\n",
       "      <th>...</th>\n",
       "      <td>...</td>\n",
       "      <td>...</td>\n",
       "    </tr>\n",
       "    <tr>\n",
       "      <th>1267</th>\n",
       "      <td>2019-08-31</td>\n",
       "      <td>1.75</td>\n",
       "    </tr>\n",
       "    <tr>\n",
       "      <th>1268</th>\n",
       "      <td>2019-09-30</td>\n",
       "      <td>1.71</td>\n",
       "    </tr>\n",
       "    <tr>\n",
       "      <th>1269</th>\n",
       "      <td>2019-10-31</td>\n",
       "      <td>1.76</td>\n",
       "    </tr>\n",
       "    <tr>\n",
       "      <th>1270</th>\n",
       "      <td>2019-11-30</td>\n",
       "      <td>2.05</td>\n",
       "    </tr>\n",
       "    <tr>\n",
       "      <th>1271</th>\n",
       "      <td>2019-12-31</td>\n",
       "      <td>2.29</td>\n",
       "    </tr>\n",
       "  </tbody>\n",
       "</table>\n",
       "<p>158 rows × 2 columns</p>\n",
       "</div>"
      ],
      "text/plain": [
       "           date  values\n",
       "1114 2006-11-30    1.97\n",
       "1115 2006-12-31    2.54\n",
       "1116 2007-01-31    2.08\n",
       "1117 2007-02-28    2.42\n",
       "1118 2007-03-31    2.78\n",
       "...         ...     ...\n",
       "1267 2019-08-31    1.75\n",
       "1268 2019-09-30    1.71\n",
       "1269 2019-10-31    1.76\n",
       "1270 2019-11-30    2.05\n",
       "1271 2019-12-31    2.29\n",
       "\n",
       "[158 rows x 2 columns]"
      ]
     },
     "execution_count": 15,
     "metadata": {},
     "output_type": "execute_result"
    }
   ],
   "source": [
    "inflation_06_19 = inflation.loc[(inflation['date'] > '2006-10-31') & (inflation['date'] < '2020-01-01')]\n",
    "inflation_06_19"
   ]
  },
  {
   "cell_type": "code",
   "execution_count": 16,
   "metadata": {
    "scrolled": true
   },
   "outputs": [
    {
     "data": {
      "text/html": [
       "<div>\n",
       "<style scoped>\n",
       "    .dataframe tbody tr th:only-of-type {\n",
       "        vertical-align: middle;\n",
       "    }\n",
       "\n",
       "    .dataframe tbody tr th {\n",
       "        vertical-align: top;\n",
       "    }\n",
       "\n",
       "    .dataframe thead th {\n",
       "        text-align: right;\n",
       "    }\n",
       "</style>\n",
       "<table border=\"1\" class=\"dataframe\">\n",
       "  <thead>\n",
       "    <tr style=\"text-align: right;\">\n",
       "      <th></th>\n",
       "      <th>date</th>\n",
       "      <th>rates</th>\n",
       "    </tr>\n",
       "  </thead>\n",
       "  <tbody>\n",
       "    <tr>\n",
       "      <th>443</th>\n",
       "      <td>2006-12-01</td>\n",
       "      <td>4.941500</td>\n",
       "    </tr>\n",
       "    <tr>\n",
       "      <th>444</th>\n",
       "      <td>2007-01-01</td>\n",
       "      <td>5.057143</td>\n",
       "    </tr>\n",
       "    <tr>\n",
       "      <th>445</th>\n",
       "      <td>2007-02-01</td>\n",
       "      <td>5.053684</td>\n",
       "    </tr>\n",
       "    <tr>\n",
       "      <th>446</th>\n",
       "      <td>2007-03-01</td>\n",
       "      <td>4.920455</td>\n",
       "    </tr>\n",
       "    <tr>\n",
       "      <th>447</th>\n",
       "      <td>2007-04-01</td>\n",
       "      <td>4.932381</td>\n",
       "    </tr>\n",
       "    <tr>\n",
       "      <th>...</th>\n",
       "      <td>...</td>\n",
       "      <td>...</td>\n",
       "    </tr>\n",
       "    <tr>\n",
       "      <th>596</th>\n",
       "      <td>2019-09-01</td>\n",
       "      <td>1.796000</td>\n",
       "    </tr>\n",
       "    <tr>\n",
       "      <th>597</th>\n",
       "      <td>2019-10-01</td>\n",
       "      <td>1.608182</td>\n",
       "    </tr>\n",
       "    <tr>\n",
       "      <th>598</th>\n",
       "      <td>2019-11-01</td>\n",
       "      <td>1.567895</td>\n",
       "    </tr>\n",
       "    <tr>\n",
       "      <th>599</th>\n",
       "      <td>2019-12-01</td>\n",
       "      <td>1.549048</td>\n",
       "    </tr>\n",
       "    <tr>\n",
       "      <th>600</th>\n",
       "      <td>2020-01-01</td>\n",
       "      <td>1.532857</td>\n",
       "    </tr>\n",
       "  </tbody>\n",
       "</table>\n",
       "<p>158 rows × 2 columns</p>\n",
       "</div>"
      ],
      "text/plain": [
       "          date     rates\n",
       "443 2006-12-01  4.941500\n",
       "444 2007-01-01  5.057143\n",
       "445 2007-02-01  5.053684\n",
       "446 2007-03-01  4.920455\n",
       "447 2007-04-01  4.932381\n",
       "..         ...       ...\n",
       "596 2019-09-01  1.796000\n",
       "597 2019-10-01  1.608182\n",
       "598 2019-11-01  1.567895\n",
       "599 2019-12-01  1.549048\n",
       "600 2020-01-01  1.532857\n",
       "\n",
       "[158 rows x 2 columns]"
      ]
     },
     "execution_count": 16,
     "metadata": {},
     "output_type": "execute_result"
    }
   ],
   "source": [
    "treasury_rate_monthly_1 = treasury_rate.loc[(treasury_rate['date'] > '2006-11-01') & (treasury_rate['date'] < '2020-02-01')]\n",
    "treasury_rate_monthly_1"
   ]
  },
  {
   "cell_type": "code",
   "execution_count": 17,
   "metadata": {},
   "outputs": [
    {
     "data": {
      "text/plain": [
       "<AxesSubplot:xlabel='date', ylabel='values'>"
      ]
     },
     "execution_count": 17,
     "metadata": {},
     "output_type": "execute_result"
    },
    {
     "data": {
      "image/png": "[encoded data removed]",
      "text/plain": [
       "<Figure size 1080x720 with 1 Axes>"
      ]
     },
     "metadata": {
      "needs_background": "light"
     },
     "output_type": "display_data"
    }
   ],
   "source": [
    "plt.figure(figsize=(15,10))\n",
    "sns.lineplot(x='date', y='values', data=inflation_06_19, label='inflation')\n",
    "sns.lineplot(x='date', y='rates', data=treasury_rate_monthly_1, label='Treasury')"
   ]
  },
  {
   "cell_type": "code",
   "execution_count": 18,
   "metadata": {},
   "outputs": [
    {
     "data": {
      "text/html": [
       "<div>\n",
       "<style scoped>\n",
       "    .dataframe tbody tr th:only-of-type {\n",
       "        vertical-align: middle;\n",
       "    }\n",
       "\n",
       "    .dataframe tbody tr th {\n",
       "        vertical-align: top;\n",
       "    }\n",
       "\n",
       "    .dataframe thead th {\n",
       "        text-align: right;\n",
       "    }\n",
       "</style>\n",
       "<table border=\"1\" class=\"dataframe\">\n",
       "  <thead>\n",
       "    <tr style=\"text-align: right;\">\n",
       "      <th></th>\n",
       "      <th>rates</th>\n",
       "      <th>values</th>\n",
       "    </tr>\n",
       "  </thead>\n",
       "  <tbody>\n",
       "    <tr>\n",
       "      <th>0</th>\n",
       "      <td>4.941500</td>\n",
       "      <td>1.97</td>\n",
       "    </tr>\n",
       "    <tr>\n",
       "      <th>1</th>\n",
       "      <td>5.057143</td>\n",
       "      <td>2.54</td>\n",
       "    </tr>\n",
       "    <tr>\n",
       "      <th>2</th>\n",
       "      <td>5.053684</td>\n",
       "      <td>2.08</td>\n",
       "    </tr>\n",
       "    <tr>\n",
       "      <th>3</th>\n",
       "      <td>4.920455</td>\n",
       "      <td>2.42</td>\n",
       "    </tr>\n",
       "    <tr>\n",
       "      <th>4</th>\n",
       "      <td>4.932381</td>\n",
       "      <td>2.78</td>\n",
       "    </tr>\n",
       "    <tr>\n",
       "      <th>...</th>\n",
       "      <td>...</td>\n",
       "      <td>...</td>\n",
       "    </tr>\n",
       "    <tr>\n",
       "      <th>153</th>\n",
       "      <td>1.796000</td>\n",
       "      <td>1.75</td>\n",
       "    </tr>\n",
       "    <tr>\n",
       "      <th>154</th>\n",
       "      <td>1.608182</td>\n",
       "      <td>1.71</td>\n",
       "    </tr>\n",
       "    <tr>\n",
       "      <th>155</th>\n",
       "      <td>1.567895</td>\n",
       "      <td>1.76</td>\n",
       "    </tr>\n",
       "    <tr>\n",
       "      <th>156</th>\n",
       "      <td>1.549048</td>\n",
       "      <td>2.05</td>\n",
       "    </tr>\n",
       "    <tr>\n",
       "      <th>157</th>\n",
       "      <td>1.532857</td>\n",
       "      <td>2.29</td>\n",
       "    </tr>\n",
       "  </tbody>\n",
       "</table>\n",
       "<p>158 rows × 2 columns</p>\n",
       "</div>"
      ],
      "text/plain": [
       "        rates  values\n",
       "0    4.941500    1.97\n",
       "1    5.057143    2.54\n",
       "2    5.053684    2.08\n",
       "3    4.920455    2.42\n",
       "4    4.932381    2.78\n",
       "..        ...     ...\n",
       "153  1.796000    1.75\n",
       "154  1.608182    1.71\n",
       "155  1.567895    1.76\n",
       "156  1.549048    2.05\n",
       "157  1.532857    2.29\n",
       "\n",
       "[158 rows x 2 columns]"
      ]
     },
     "execution_count": 18,
     "metadata": {},
     "output_type": "execute_result"
    }
   ],
   "source": [
    "treasuryRate1_inflation1 = pd.concat([treasury_rate_monthly_1.reset_index().drop(['date', 'index'], axis=1), inflation_06_19.reset_index().drop(['date', 'index'], axis=1).reset_index()], axis = 1)\n",
    "treasuryRate1_inflation1.drop('index', axis = 1, inplace=True)\n",
    "treasuryRate1_inflation1"
   ]
  },
  {
   "cell_type": "code",
   "execution_count": 19,
   "metadata": {},
   "outputs": [
    {
     "data": {
      "text/html": [
       "<table class=\"simpletable\">\n",
       "<caption>OLS Regression Results</caption>\n",
       "<tr>\n",
       "  <th>Dep. Variable:</th>          <td>rates</td>      <th>  R-squared:         </th> <td>   0.130</td>\n",
       "</tr>\n",
       "<tr>\n",
       "  <th>Model:</th>                   <td>OLS</td>       <th>  Adj. R-squared:    </th> <td>   0.124</td>\n",
       "</tr>\n",
       "<tr>\n",
       "  <th>Method:</th>             <td>Least Squares</td>  <th>  F-statistic:       </th> <td>   23.30</td>\n",
       "</tr>\n",
       "<tr>\n",
       "  <th>Date:</th>             <td>Thu, 06 May 2021</td> <th>  Prob (F-statistic):</th> <td>3.27e-06</td>\n",
       "</tr>\n",
       "<tr>\n",
       "  <th>Time:</th>                 <td>22:36:18</td>     <th>  Log-Likelihood:    </th> <td> -255.18</td>\n",
       "</tr>\n",
       "<tr>\n",
       "  <th>No. Observations:</th>      <td>   158</td>      <th>  AIC:               </th> <td>   514.4</td>\n",
       "</tr>\n",
       "<tr>\n",
       "  <th>Df Residuals:</th>          <td>   156</td>      <th>  BIC:               </th> <td>   520.5</td>\n",
       "</tr>\n",
       "<tr>\n",
       "  <th>Df Model:</th>              <td>     1</td>      <th>                     </th>     <td> </td>   \n",
       "</tr>\n",
       "<tr>\n",
       "  <th>Covariance Type:</th>      <td>nonrobust</td>    <th>                     </th>     <td> </td>   \n",
       "</tr>\n",
       "</table>\n",
       "<table class=\"simpletable\">\n",
       "<tr>\n",
       "     <td></td>       <th>coef</th>     <th>std err</th>      <th>t</th>      <th>P>|t|</th>  <th>[0.025</th>    <th>0.975]</th>  \n",
       "</tr>\n",
       "<tr>\n",
       "  <th>const</th>  <td>    0.4506</td> <td>    0.170</td> <td>    2.648</td> <td> 0.009</td> <td>    0.114</td> <td>    0.787</td>\n",
       "</tr>\n",
       "<tr>\n",
       "  <th>values</th> <td>    0.3627</td> <td>    0.075</td> <td>    4.827</td> <td> 0.000</td> <td>    0.214</td> <td>    0.511</td>\n",
       "</tr>\n",
       "</table>\n",
       "<table class=\"simpletable\">\n",
       "<tr>\n",
       "  <th>Omnibus:</th>       <td>47.747</td> <th>  Durbin-Watson:     </th> <td>   0.027</td>\n",
       "</tr>\n",
       "<tr>\n",
       "  <th>Prob(Omnibus):</th> <td> 0.000</td> <th>  Jarque-Bera (JB):  </th> <td>  85.725</td>\n",
       "</tr>\n",
       "<tr>\n",
       "  <th>Skew:</th>          <td> 1.467</td> <th>  Prob(JB):          </th> <td>2.43e-19</td>\n",
       "</tr>\n",
       "<tr>\n",
       "  <th>Kurtosis:</th>      <td> 5.101</td> <th>  Cond. No.          </th> <td>    4.51</td>\n",
       "</tr>\n",
       "</table><br/><br/>Notes:<br/>[1] Standard Errors assume that the covariance matrix of the errors is correctly specified."
      ],
      "text/plain": [
       "<class 'statsmodels.iolib.summary.Summary'>\n",
       "\"\"\"\n",
       "                            OLS Regression Results                            \n",
       "==============================================================================\n",
       "Dep. Variable:                  rates   R-squared:                       0.130\n",
       "Model:                            OLS   Adj. R-squared:                  0.124\n",
       "Method:                 Least Squares   F-statistic:                     23.30\n",
       "Date:                Thu, 06 May 2021   Prob (F-statistic):           3.27e-06\n",
       "Time:                        22:36:18   Log-Likelihood:                -255.18\n",
       "No. Observations:                 158   AIC:                             514.4\n",
       "Df Residuals:                     156   BIC:                             520.5\n",
       "Df Model:                           1                                         \n",
       "Covariance Type:            nonrobust                                         \n",
       "==============================================================================\n",
       "                 coef    std err          t      P>|t|      [0.025      0.975]\n",
       "------------------------------------------------------------------------------\n",
       "const          0.4506      0.170      2.648      0.009       0.114       0.787\n",
       "values         0.3627      0.075      4.827      0.000       0.214       0.511\n",
       "==============================================================================\n",
       "Omnibus:                       47.747   Durbin-Watson:                   0.027\n",
       "Prob(Omnibus):                  0.000   Jarque-Bera (JB):               85.725\n",
       "Skew:                           1.467   Prob(JB):                     2.43e-19\n",
       "Kurtosis:                       5.101   Cond. No.                         4.51\n",
       "==============================================================================\n",
       "\n",
       "Notes:\n",
       "[1] Standard Errors assume that the covariance matrix of the errors is correctly specified.\n",
       "\"\"\""
      ]
     },
     "execution_count": 19,
     "metadata": {},
     "output_type": "execute_result"
    }
   ],
   "source": [
    "regression_treasury1_inflation1 = sm.OLS(treasuryRate1_inflation1['rates'], sm.add_constant(treasuryRate1_inflation1.iloc[:,1])).fit()\n",
    "regression_treasury1_inflation1.summary()"
   ]
  },
  {
   "cell_type": "code",
   "execution_count": 20,
   "metadata": {},
   "outputs": [
    {
     "name": "stdout",
     "output_type": "stream",
     "text": [
      "Lagrange Multiplier Test for autocorrelation of residuals\n",
      "LM Test Statistic : 145.5203132812552\n",
      "LM p-value : 1.6424236339399798e-24\n",
      "LM F-test statistics : 128.26631646846533\n",
      "LM F-test p-value : 6.698840081036544e-72\n",
      "Do not reject null hypothesis. Conclude there is no evidence of heteroskedasticity.\n"
     ]
    },
    {
     "name": "stderr",
     "output_type": "stream",
     "text": [
      "C:\\Users\\ghxye\\anaconda3\\lib\\site-packages\\statsmodels\\stats\\diagnostic.py:826: FutureWarning: The default value of nlags is changing.  After 0.12, this value will become min(10, nobs//5). Directly setnlags or period to silence this warning.\n",
      "  warnings.warn(\"The default value of nlags is changing.  After 0.12, \"\n"
     ]
    }
   ],
   "source": [
    "bg_treasury1 = bg(regression_treasury1_inflation1)\n",
    "\n",
    "print('Lagrange Multiplier Test for autocorrelation of residuals')\n",
    "labels = ['LM Test Statistic','LM p-value','LM F-test statistics','LM F-test p-value']\n",
    "for value,label in zip(bg_treasury1,labels):\n",
    "    print(label+' : '+str(value) )\n",
    "    \n",
    "if bg(regression_treasury1_inflation1)[1] < chisquare(treasuryRate1_inflation1['rates'])[1]:\n",
    "    print('Do not reject null hypothesis. Conclude there is no evidence of heteroskedasticity.')\n",
    "else:\n",
    "    print('Reject null hypothesis. Conclude there is evidence of hetereoskedasticity')"
   ]
  },
  {
   "cell_type": "code",
   "execution_count": 21,
   "metadata": {},
   "outputs": [
    {
     "data": {
      "text/html": [
       "<div>\n",
       "<style scoped>\n",
       "    .dataframe tbody tr th:only-of-type {\n",
       "        vertical-align: middle;\n",
       "    }\n",
       "\n",
       "    .dataframe tbody tr th {\n",
       "        vertical-align: top;\n",
       "    }\n",
       "\n",
       "    .dataframe thead th {\n",
       "        text-align: right;\n",
       "    }\n",
       "</style>\n",
       "<table border=\"1\" class=\"dataframe\">\n",
       "  <thead>\n",
       "    <tr style=\"text-align: right;\">\n",
       "      <th></th>\n",
       "      <th>J Trace</th>\n",
       "      <th>J max</th>\n",
       "    </tr>\n",
       "  </thead>\n",
       "  <tbody>\n",
       "    <tr>\n",
       "      <th>0</th>\n",
       "      <td>24.055904</td>\n",
       "      <td>13.208589</td>\n",
       "    </tr>\n",
       "    <tr>\n",
       "      <th>1</th>\n",
       "      <td>10.847315</td>\n",
       "      <td>10.847315</td>\n",
       "    </tr>\n",
       "  </tbody>\n",
       "</table>\n",
       "</div>"
      ],
      "text/plain": [
       "     J Trace      J max\n",
       "0  24.055904  13.208589\n",
       "1  10.847315  10.847315"
      ]
     },
     "execution_count": 21,
     "metadata": {},
     "output_type": "execute_result"
    }
   ],
   "source": [
    "jci_TR1_infl = coint_johansen(treasuryRate1_inflation1, 0, 10)\n",
    "jci_TR1_infl\n",
    "maxEigen_stats_criticalValues_treasury_inflation_1 = pd.DataFrame(jci_TR1_infl.lr2, columns = ['J max'])\n",
    "trace_stats_treasury_inflation_1 = pd.DataFrame(jci_TR1_infl.lr1, columns = ['J Trace'])\n",
    "\n",
    "cointegration_results_1 = pd.concat([trace_stats_treasury_inflation_1, maxEigen_stats_criticalValues_treasury_inflation_1], axis=1)\n",
    "cointegration_results_1"
   ]
  },
  {
   "cell_type": "code",
   "execution_count": 22,
   "metadata": {
    "scrolled": true
   },
   "outputs": [
    {
     "data": {
      "text/html": [
       "<table class=\"simpletable\">\n",
       "<caption>Johansen cointegration test using maximum eigenvalue test statistic with 5% significance level</caption>\n",
       "<tr>\n",
       "  <th>r_0</th> <th>r_1</th> <th>test statistic</th> <th>critical value</th>\n",
       "</tr>\n",
       "<tr>\n",
       "    <td>0</td>   <td>1</td>          <td>13.21</td>          <td>14.26</td>\n",
       "</tr>\n",
       "</table>"
      ],
      "text/plain": [
       "<class 'statsmodels.iolib.table.SimpleTable'>"
      ]
     },
     "execution_count": 22,
     "metadata": {},
     "output_type": "execute_result"
    }
   ],
   "source": [
    "scr_TR_infl_1 = scr(treasuryRate1_inflation1, 0, 10, method = 'maxeig', signif = 0.05)\n",
    "scr_TR_infl_1.summary()"
   ]
  }
 ],
 "metadata": {
  "kernelspec": {
   "display_name": "Python 3",
   "language": "python",
   "name": "python3"
  },
  "language_info": {
   "codemirror_mode": {
    "name": "ipython",
    "version": 3
   },
   "file_extension": ".py",
   "mimetype": "text/x-python",
   "name": "python",
   "nbconvert_exporter": "python",
   "pygments_lexer": "ipython3",
   "version": "3.8.5"
  },
  "toc": {
   "base_numbering": 1,
   "nav_menu": {},
   "number_sections": false,
   "sideBar": false,
   "skip_h1_title": false,
   "title_cell": "Table of Contents",
   "title_sidebar": "Contents",
   "toc_cell": false,
   "toc_position": {},
   "toc_section_display": false,
   "toc_window_display": false
  }
 },
 "nbformat": 4,
 "nbformat_minor": 4
}
