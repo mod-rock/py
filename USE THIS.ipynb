{
 "cells": [
  {
   "cell_type": "markdown",
   "metadata": {},
   "source": [
    "# QF 627 Programming and Computational Finance\n",
    "## Individual Assessment"
   ]
  },
  {
   "cell_type": "markdown",
   "metadata": {},
   "source": [
    "***\n",
    "\n",
    "> Good evening, Team. 👋\n",
    "\n",
    "> This assessment is prepared so that you may review what you have learned on the course. You can find the answers from the lessons and from the scripts of each lesson that you have received throughout the course. Please do not feel yourselves to be under pressure. `Read each question carefully and answer accordingly`.\n",
    "\n",
    "> Using Python in real-world financial data analysis does not mean simply executing a single step of an independent chunk of code. It requires a chain of lines of codes with a sharp logical progression. To give you a good exercise in real-world practice, the questions here, just like all the lessons and exercise problem sets, require you to go through `inter-related` and `logically deduced lines of programming`.\n",
    "\n",
    "***\n",
    "\n",
    "> Below are 10 questions. Each question asks you to program a sequence of codes that lead to an answer. First `ensure you fully understand the question`, in order not to overlook essential processes and answers. When questions ask for answers in addition to lines of codes, provide them using a markdown cell.\n",
    "\n",
    "***\n",
    "\n",
    "> Be sure to submit your work before the deadline: `9:30pm tonight, November 9, 2021`. It is an open-book exercise, and is also a timed task. To be fair to all students, a late submission will incur a point reduction.\n",
    "\n",
    "> Please note `your last name` for `naming your submission` file (e.g., `Roh.ipynb`)\n",
    "\n",
    "> If you find that you cannot answer a question, it would be wise to move on to another question that you can answer, and to finish that one first. `Make the best use of the time available`. If you cannot fully answer all the questions, then do as much as you can.\n",
    "\n",
    "***\n",
    "\n",
    "> Under a relative grading scheme, not everyone can receive an A grade for the course. This is school policy. If you find the questions easy, that does not guarantee your good final performance. If you find the questions a bit difficult, that is so that you may be given a valid and fair assessment. `It does not mean that you are failing`.\n",
    "\n",
    "***\n",
    "\n",
    "> Rather than feeling pressured by the assessment, I hope you will enjoy the opportunity presented by the hands-on exercise. You will notice that `answering each question will further consolidate your learning`.\n",
    "\n",
    "***\n",
    "\n",
    "> I wish you the best for your individual assessment, Team.🤞"
   ]
  },
  {
   "cell_type": "markdown",
   "metadata": {},
   "source": [
    "### For standardization of your answers…\n",
    "\n",
    "> Please execute the lines of code below before you start work on your answers."
   ]
  },
  {
   "cell_type": "code",
   "execution_count": 15,
   "metadata": {},
   "outputs": [],
   "source": [
    "# Our standardized printing options\n",
    "\n",
    "import numpy as np\n",
    "import pandas as pd\n",
    "\n",
    "import matplotlib.pyplot as plt\n",
    "import matplotlib as mpl\n",
    "\n",
    "np.set_printoptions(precision = 3)\n",
    "\n",
    "pd.set_option(\"precision\", 3)\n",
    "pd.set_option(\"display.float_format\", lambda x: \"%.3f\" % x)\n",
    "\n",
    "plt.style.use(\"ggplot\")\n",
    "\n",
    "mpl.rcParams[\"axes.grid\"] = True\n",
    "mpl.rcParams[\"grid.color\"] = \"grey\"\n",
    "mpl.rcParams[\"grid.alpha\"] = 0.25\n",
    "\n",
    "mpl.rcParams[\"axes.facecolor\"] = \"white\"\n",
    "\n",
    "mpl.rcParams[\"legend.fontsize\"] = 14"
   ]
  },
  {
   "cell_type": "markdown",
   "metadata": {},
   "source": [
    "###  <font color = blue> 👉 Question 1</font>. Extract the stock prices of the following ticker symbols, from July 2012 to June 2020.\n",
    "\n",
    "| Security | Symbol |\n",
    "| -------- | ------ |\n",
    "Merck | `MRK`\n",
    "Marriott | `MAR`\n",
    "3M | `MMM`\n",
    "Adobe | `ADBE`\n",
    "Aon | `AON`\n",
    "American Airlines | `AAL`\n",
    "Capital One | `COF`\n",
    "Coca-Cola | `KO`\n",
    "Citigroup | `C`\n",
    "\n",
    "### Assess which of the pairs of tickers (there are 36 unique possible pairs) appear to show the closest relationships (i.e., greatest correlations) when comparing daily percentage changes.\n",
    "\n",
    "### Make sure to provide the lines of code that lead to your answers, and give your answers in `Answer 1 cell`."
   ]
  },
  {
   "cell_type": "code",
   "execution_count": 16,
   "metadata": {},
   "outputs": [],
   "source": [
    "import pandas_datareader.data as web\n",
    "import datetime"
   ]
  },
  {
   "cell_type": "code",
   "execution_count": 17,
   "metadata": {},
   "outputs": [],
   "source": [
    "def extract(TICKERS, start, end):\n",
    "    def data(ticker):\n",
    "        return web.DataReader(ticker, \"yahoo\", start, end)\n",
    "    S = map(data, TICKERS)\n",
    "    return pd.concat(S, keys = TICKERS, names = [\"Ticker\", \"Date\"])"
   ]
  },
  {
   "cell_type": "code",
   "execution_count": 18,
   "metadata": {},
   "outputs": [],
   "source": [
    "s = ['MRK', 'MAR', 'MMM', 'ADBE', 'AON', 'AAL', 'COF', 'KO', 'C']\n",
    "start = datetime.date(2012, 7, 1)\n",
    "end = datetime.date(2020, 6, 30)\n",
    "T9 = extract(s, start, end)"
   ]
  },
  {
   "cell_type": "code",
   "execution_count": 19,
   "metadata": {},
   "outputs": [],
   "source": [
    "T9 = T9[['Adj Close']]\n",
    "T9 = T9.reset_index().set_index('Date')"
   ]
  },
  {
   "cell_type": "code",
   "execution_count": 20,
   "metadata": {},
   "outputs": [],
   "source": [
    "T9_pct = pd.DataFrame(index = T9.index)\n",
    "for i, j in T9.groupby('Ticker'):\n",
    "    temp = j['Adj Close']\n",
    "    temp.name = i\n",
    "    T9_pct = pd.merge(T9_pct, temp, on = 'Date')"
   ]
  },
  {
   "cell_type": "code",
   "execution_count": 21,
   "metadata": {},
   "outputs": [],
   "source": [
    "T9_pct = T9_pct.pct_change().dropna()"
   ]
  },
  {
   "cell_type": "code",
   "execution_count": 22,
   "metadata": {},
   "outputs": [],
   "source": [
    "def kill1(x):\n",
    "    if x == 1:\n",
    "        return 0\n",
    "    else: \n",
    "        return x"
   ]
  },
  {
   "cell_type": "code",
   "execution_count": 23,
   "metadata": {},
   "outputs": [
    {
     "name": "stdout",
     "output_type": "stream",
     "text": [
      "AAL   1.000\n",
      "MAR   0.504\n",
      "Name: AAL, dtype: float64\n",
      "ADBE   1.000\n",
      "C      0.486\n",
      "Name: ADBE, dtype: float64\n",
      "AON   1.000\n",
      "C     0.553\n",
      "Name: AON, dtype: float64\n",
      "C     1.000\n",
      "COF   0.782\n",
      "Name: C, dtype: float64\n",
      "COF   1.000\n",
      "C     0.782\n",
      "Name: COF, dtype: float64\n",
      "KO    1.000\n",
      "AON   0.505\n",
      "Name: KO, dtype: float64\n",
      "MAR   1.000\n",
      "COF   0.589\n",
      "Name: MAR, dtype: float64\n",
      "MMM   1.000\n",
      "C     0.587\n",
      "Name: MMM, dtype: float64\n",
      "MRK   1.000\n",
      "KO    0.446\n",
      "Name: MRK, dtype: float64\n"
     ]
    }
   ],
   "source": [
    "for i in T9_pct.corr():\n",
    "    print(T9_pct.corr()[i].nlargest(2))"
   ]
  },
  {
   "cell_type": "markdown",
   "metadata": {},
   "source": [
    "### <font color = red> Answer 1 </font>\n",
    "\n",
    "    The answer is ____C________&_____COF_________ .\n",
    "    "
   ]
  },
  {
   "cell_type": "markdown",
   "metadata": {},
   "source": [
    "## 👇 Questions 2 to 5 ask you to build, execute, and backtest a `mean-reversion` strategy."
   ]
  },
  {
   "cell_type": "markdown",
   "metadata": {},
   "source": [
    "### <font color = blue> 👉 Question 2</font>. Let’s take a look at Google (`GOOGL`) as our security of interest, over the period of August 2011 to July 2020.\n",
    "\n",
    "### Use a simple moving average of 42 days.\n",
    "\n",
    "### Set a threshold value at two standard deviations of the current price, to deviate from the simple moving average to signal a positioning.\n",
    "\n",
    "### <font color = green> NOTE: Your moving threshold value here is NOT an absolute value. You should create two additional columns containing your two standard deviations relative to your base line (a simple moving average of 42 days). </font>\n",
    "\n",
    "### Visualize your buy positions by setting `fmt` (format string) at `g^`, and your sell positions by setting fmt at `rv`."
   ]
  },
  {
   "cell_type": "markdown",
   "metadata": {},
   "source": [
    "### Below are the lines of code that lead to an answer:"
   ]
  },
  {
   "cell_type": "code",
   "execution_count": 24,
   "metadata": {},
   "outputs": [],
   "source": [
    "def data(ticker):\n",
    "        return web.DataReader(ticker, \"yahoo\", start, end)\n",
    "google = data('GOOGL')[['Adj Close']]\n",
    "\n",
    "google['SMA42'] = google['Adj Close'].rolling(42).mean()\n",
    "\n",
    "google['ShortPoint'] = google['Adj Close'].rolling(42).mean() + google['Adj Close'].rolling(42).std() * 2\n",
    "google['LongPoint'] = google['Adj Close'].rolling(42).mean() - google['Adj Close'].rolling(42).std() * 2\n",
    "\n",
    "google[\"Position\"] = 0\n",
    "google = google.dropna()\n",
    "\n",
    "def long_or_short(x):\n",
    "    if x[\"Adj Close\"] < x[\"LongPoint\"]:\n",
    "        return 1\n",
    "    elif x[\"Adj Close\"] > x[\"ShortPoint\"]:\n",
    "        return -1\n",
    "    else:\n",
    "        return 0\n",
    "\n",
    "google[\"Position\"] = google.apply(long_or_short, axis = 1)\n",
    "\n",
    "google[\"our_positions\"] = google[\"Position\"].diff()"
   ]
  },
  {
   "cell_type": "markdown",
   "metadata": {},
   "source": [
    "### <font color = red> Answer 2 is presented in the cell below: </font>"
   ]
  },
  {
   "cell_type": "code",
   "execution_count": 25,
   "metadata": {},
   "outputs": [
    {
     "data": {
      "image/png": "[encoded data removed]",
      "text/plain": [
       "<Figure size 1152x720 with 1 Axes>"
      ]
     },
     "metadata": {},
     "output_type": "display_data"
    }
   ],
   "source": [
    "fig = plt.figure(figsize = (16, 10))\n",
    "\n",
    "sub = fig.add_subplot(111,\n",
    "                      ylabel = \"Stock Price\")\n",
    "\n",
    "google[\"Adj Close\"].plot(ax = sub,\n",
    "                      color = \"grey\",\n",
    "                      lw = 0.75) # Closing Price\n",
    "\n",
    "google[[\"LongPoint\",\n",
    "        \"ShortPoint\"]].plot(ax = sub,\n",
    "                               style = [\"--\", \"--\"]\n",
    "                               )\n",
    "\n",
    "sub.plot(google.loc[google.our_positions == -1.0].index, # Selling\n",
    "         google[\"Adj Close\"][google.our_positions == -1.0], \n",
    "         \"v\",\n",
    "         color = \"green\",\n",
    "         markersize = 12)\n",
    "\n",
    "sub.plot(google.loc[google.our_positions == 1.0].index, # Buying\n",
    "         google[\"Adj Close\"][google.our_positions == 1.0], \n",
    "         \"^\",\n",
    "         color = \"red\",\n",
    "         markersize = 12)\n",
    "\n",
    "plt.show()"
   ]
  },
  {
   "cell_type": "markdown",
   "metadata": {},
   "source": [
    "### <font color = blue> 👉 Question 3</font>. Let’s expand this strategy to two more securities, Apple (`AAPL`) and Amazon (`AMZN`) over the same period of August 2011 to July 2020. \n",
    "\n",
    "### When using the strategy above, which of those two securities has the greater Sharpe Ratio?"
   ]
  },
  {
   "cell_type": "markdown",
   "metadata": {},
   "source": [
    "### Below are the lines of code that lead to an answer:"
   ]
  },
  {
   "cell_type": "code",
   "execution_count": 26,
   "metadata": {},
   "outputs": [],
   "source": [
    "capital = 200000"
   ]
  },
  {
   "cell_type": "code",
   "execution_count": 27,
   "metadata": {},
   "outputs": [
    {
     "data": {
      "text/plain": [
       "0.6137124080289155"
      ]
     },
     "execution_count": 27,
     "metadata": {},
     "output_type": "execute_result"
    }
   ],
   "source": [
    "def data(ticker):\n",
    "        return web.DataReader(ticker, \"yahoo\", start, end)\n",
    "apple = data('AAPL')[['Adj Close']]\n",
    "\n",
    "apple['SMA42'] = apple['Adj Close'].rolling(42).mean()\n",
    "\n",
    "apple['ShortPoint'] = apple['Adj Close'].rolling(42).mean() + apple['Adj Close'].rolling(42).std() * 2\n",
    "apple['LongPoint'] = apple['Adj Close'].rolling(42).mean() - apple['Adj Close'].rolling(42).std() * 2\n",
    "\n",
    "apple[\"Position\"] = 0\n",
    "apple = apple.dropna()\n",
    "\n",
    "def long_or_short(x):\n",
    "    if x[\"Adj Close\"] < x[\"LongPoint\"]:\n",
    "        return 1\n",
    "    elif x[\"Adj Close\"] > x[\"ShortPoint\"]:\n",
    "        return -1\n",
    "    else:\n",
    "        return 0\n",
    "\n",
    "apple[\"Position\"] = apple.apply(long_or_short, axis = 1)\n",
    "apple[\"our_positions\"] = apple[\"Position\"].diff()\n",
    "difference_in_shares_owned = apple[\"our_positions\"].diff()\n",
    "apple['portfolioValue'] = apple[\"Position\"] * apple[\"Adj Close\"]\n",
    "apple[\"our_holdings\"] = (apple[\"our_positions\"].multiply(apple[\"Adj Close\"],axis = 0))\n",
    "our_capital = 200000\n",
    "apple[\"our_cash\"] = our_capital - difference_in_shares_owned.multiply(apple[\"Adj Close\"]).cumsum()\n",
    "apple[\"total\"] = apple[\"our_cash\"] + apple[\"our_holdings\"]\n",
    "apple['return'] = apple[\"total\"].pct_change()\n",
    "np.sqrt(253) * apple['return'].mean() / apple['return'].std()"
   ]
  },
  {
   "cell_type": "code",
   "execution_count": 28,
   "metadata": {},
   "outputs": [
    {
     "data": {
      "text/html": [
       "<div>\n",
       "<style scoped>\n",
       "    .dataframe tbody tr th:only-of-type {\n",
       "        vertical-align: middle;\n",
       "    }\n",
       "\n",
       "    .dataframe tbody tr th {\n",
       "        vertical-align: top;\n",
       "    }\n",
       "\n",
       "    .dataframe thead th {\n",
       "        text-align: right;\n",
       "    }\n",
       "</style>\n",
       "<table border=\"1\" class=\"dataframe\">\n",
       "  <thead>\n",
       "    <tr style=\"text-align: right;\">\n",
       "      <th></th>\n",
       "      <th>Adj Close</th>\n",
       "      <th>SMA42</th>\n",
       "      <th>ShortPoint</th>\n",
       "      <th>LongPoint</th>\n",
       "      <th>Position</th>\n",
       "      <th>our_positions</th>\n",
       "      <th>portfolioValue</th>\n",
       "      <th>our_holdings</th>\n",
       "      <th>our_cash</th>\n",
       "      <th>total</th>\n",
       "      <th>return</th>\n",
       "    </tr>\n",
       "    <tr>\n",
       "      <th>Date</th>\n",
       "      <th></th>\n",
       "      <th></th>\n",
       "      <th></th>\n",
       "      <th></th>\n",
       "      <th></th>\n",
       "      <th></th>\n",
       "      <th></th>\n",
       "      <th></th>\n",
       "      <th></th>\n",
       "      <th></th>\n",
       "      <th></th>\n",
       "    </tr>\n",
       "  </thead>\n",
       "  <tbody>\n",
       "    <tr>\n",
       "      <th>2012-08-29</th>\n",
       "      <td>20.710</td>\n",
       "      <td>19.041</td>\n",
       "      <td>20.771</td>\n",
       "      <td>17.311</td>\n",
       "      <td>0</td>\n",
       "      <td>NaN</td>\n",
       "      <td>0.000</td>\n",
       "      <td>NaN</td>\n",
       "      <td>NaN</td>\n",
       "      <td>NaN</td>\n",
       "      <td>NaN</td>\n",
       "    </tr>\n",
       "    <tr>\n",
       "      <th>2012-08-30</th>\n",
       "      <td>20.415</td>\n",
       "      <td>19.095</td>\n",
       "      <td>20.852</td>\n",
       "      <td>17.338</td>\n",
       "      <td>0</td>\n",
       "      <td>0.000</td>\n",
       "      <td>0.000</td>\n",
       "      <td>0.000</td>\n",
       "      <td>NaN</td>\n",
       "      <td>NaN</td>\n",
       "      <td>NaN</td>\n",
       "    </tr>\n",
       "    <tr>\n",
       "      <th>2012-08-31</th>\n",
       "      <td>20.457</td>\n",
       "      <td>19.145</td>\n",
       "      <td>20.935</td>\n",
       "      <td>17.355</td>\n",
       "      <td>0</td>\n",
       "      <td>0.000</td>\n",
       "      <td>0.000</td>\n",
       "      <td>0.000</td>\n",
       "      <td>200000.000</td>\n",
       "      <td>200000.000</td>\n",
       "      <td>NaN</td>\n",
       "    </tr>\n",
       "    <tr>\n",
       "      <th>2012-09-04</th>\n",
       "      <td>20.756</td>\n",
       "      <td>19.195</td>\n",
       "      <td>21.045</td>\n",
       "      <td>17.344</td>\n",
       "      <td>0</td>\n",
       "      <td>0.000</td>\n",
       "      <td>0.000</td>\n",
       "      <td>0.000</td>\n",
       "      <td>200000.000</td>\n",
       "      <td>200000.000</td>\n",
       "      <td>0.000</td>\n",
       "    </tr>\n",
       "    <tr>\n",
       "      <th>2012-09-05</th>\n",
       "      <td>20.611</td>\n",
       "      <td>19.244</td>\n",
       "      <td>21.133</td>\n",
       "      <td>17.354</td>\n",
       "      <td>0</td>\n",
       "      <td>0.000</td>\n",
       "      <td>0.000</td>\n",
       "      <td>0.000</td>\n",
       "      <td>200000.000</td>\n",
       "      <td>200000.000</td>\n",
       "      <td>0.000</td>\n",
       "    </tr>\n",
       "    <tr>\n",
       "      <th>...</th>\n",
       "      <td>...</td>\n",
       "      <td>...</td>\n",
       "      <td>...</td>\n",
       "      <td>...</td>\n",
       "      <td>...</td>\n",
       "      <td>...</td>\n",
       "      <td>...</td>\n",
       "      <td>...</td>\n",
       "      <td>...</td>\n",
       "      <td>...</td>\n",
       "      <td>...</td>\n",
       "    </tr>\n",
       "    <tr>\n",
       "      <th>2020-06-24</th>\n",
       "      <td>89.149</td>\n",
       "      <td>79.575</td>\n",
       "      <td>90.782</td>\n",
       "      <td>68.368</td>\n",
       "      <td>0</td>\n",
       "      <td>1.000</td>\n",
       "      <td>0.000</td>\n",
       "      <td>89.149</td>\n",
       "      <td>199935.924</td>\n",
       "      <td>200025.073</td>\n",
       "      <td>0.000</td>\n",
       "    </tr>\n",
       "    <tr>\n",
       "      <th>2020-06-25</th>\n",
       "      <td>90.332</td>\n",
       "      <td>80.061</td>\n",
       "      <td>91.323</td>\n",
       "      <td>68.800</td>\n",
       "      <td>0</td>\n",
       "      <td>0.000</td>\n",
       "      <td>0.000</td>\n",
       "      <td>0.000</td>\n",
       "      <td>200026.256</td>\n",
       "      <td>200026.256</td>\n",
       "      <td>0.000</td>\n",
       "    </tr>\n",
       "    <tr>\n",
       "      <th>2020-06-26</th>\n",
       "      <td>87.557</td>\n",
       "      <td>80.508</td>\n",
       "      <td>91.421</td>\n",
       "      <td>69.595</td>\n",
       "      <td>0</td>\n",
       "      <td>0.000</td>\n",
       "      <td>0.000</td>\n",
       "      <td>0.000</td>\n",
       "      <td>200026.256</td>\n",
       "      <td>200026.256</td>\n",
       "      <td>0.000</td>\n",
       "    </tr>\n",
       "    <tr>\n",
       "      <th>2020-06-29</th>\n",
       "      <td>89.575</td>\n",
       "      <td>80.949</td>\n",
       "      <td>91.793</td>\n",
       "      <td>70.106</td>\n",
       "      <td>0</td>\n",
       "      <td>0.000</td>\n",
       "      <td>0.000</td>\n",
       "      <td>0.000</td>\n",
       "      <td>200026.256</td>\n",
       "      <td>200026.256</td>\n",
       "      <td>0.000</td>\n",
       "    </tr>\n",
       "    <tr>\n",
       "      <th>2020-06-30</th>\n",
       "      <td>90.322</td>\n",
       "      <td>81.373</td>\n",
       "      <td>92.260</td>\n",
       "      <td>70.485</td>\n",
       "      <td>0</td>\n",
       "      <td>0.000</td>\n",
       "      <td>0.000</td>\n",
       "      <td>0.000</td>\n",
       "      <td>200026.256</td>\n",
       "      <td>200026.256</td>\n",
       "      <td>0.000</td>\n",
       "    </tr>\n",
       "  </tbody>\n",
       "</table>\n",
       "<p>1971 rows × 11 columns</p>\n",
       "</div>"
      ],
      "text/plain": [
       "            Adj Close  SMA42  ShortPoint  LongPoint  Position  our_positions  \\\n",
       "Date                                                                           \n",
       "2012-08-29     20.710 19.041      20.771     17.311         0            NaN   \n",
       "2012-08-30     20.415 19.095      20.852     17.338         0          0.000   \n",
       "2012-08-31     20.457 19.145      20.935     17.355         0          0.000   \n",
       "2012-09-04     20.756 19.195      21.045     17.344         0          0.000   \n",
       "2012-09-05     20.611 19.244      21.133     17.354         0          0.000   \n",
       "...               ...    ...         ...        ...       ...            ...   \n",
       "2020-06-24     89.149 79.575      90.782     68.368         0          1.000   \n",
       "2020-06-25     90.332 80.061      91.323     68.800         0          0.000   \n",
       "2020-06-26     87.557 80.508      91.421     69.595         0          0.000   \n",
       "2020-06-29     89.575 80.949      91.793     70.106         0          0.000   \n",
       "2020-06-30     90.322 81.373      92.260     70.485         0          0.000   \n",
       "\n",
       "            portfolioValue  our_holdings   our_cash      total  return  \n",
       "Date                                                                    \n",
       "2012-08-29           0.000           NaN        NaN        NaN     NaN  \n",
       "2012-08-30           0.000         0.000        NaN        NaN     NaN  \n",
       "2012-08-31           0.000         0.000 200000.000 200000.000     NaN  \n",
       "2012-09-04           0.000         0.000 200000.000 200000.000   0.000  \n",
       "2012-09-05           0.000         0.000 200000.000 200000.000   0.000  \n",
       "...                    ...           ...        ...        ...     ...  \n",
       "2020-06-24           0.000        89.149 199935.924 200025.073   0.000  \n",
       "2020-06-25           0.000         0.000 200026.256 200026.256   0.000  \n",
       "2020-06-26           0.000         0.000 200026.256 200026.256   0.000  \n",
       "2020-06-29           0.000         0.000 200026.256 200026.256   0.000  \n",
       "2020-06-30           0.000         0.000 200026.256 200026.256   0.000  \n",
       "\n",
       "[1971 rows x 11 columns]"
      ]
     },
     "execution_count": 28,
     "metadata": {},
     "output_type": "execute_result"
    }
   ],
   "source": [
    "apple"
   ]
  },
  {
   "cell_type": "code",
   "execution_count": 29,
   "metadata": {},
   "outputs": [
    {
     "data": {
      "text/plain": [
       "0.0028686035293581068"
      ]
     },
     "execution_count": 29,
     "metadata": {},
     "output_type": "execute_result"
    }
   ],
   "source": [
    "def data(ticker):\n",
    "        return web.DataReader(ticker, \"yahoo\", start, end)\n",
    "amazon = data('AMZN')[['Adj Close']]\n",
    "\n",
    "amazon['SMA42'] = amazon['Adj Close'].rolling(42).mean()\n",
    "\n",
    "amazon['ShortPoint'] = amazon['Adj Close'].rolling(42).mean() + amazon['Adj Close'].rolling(42).std() * 2\n",
    "amazon['LongPoint'] = amazon['Adj Close'].rolling(42).mean() - amazon['Adj Close'].rolling(42).std() * 2\n",
    "\n",
    "amazon[\"Position\"] = 0\n",
    "amazon = amazon.dropna()\n",
    "\n",
    "def long_or_short(x):\n",
    "    if x[\"Adj Close\"] < x[\"LongPoint\"]:\n",
    "        return 1\n",
    "    elif x[\"Adj Close\"] > x[\"ShortPoint\"]:\n",
    "        return -1\n",
    "    else:\n",
    "        return 0\n",
    "\n",
    "amazon[\"Position\"] = amazon.apply(long_or_short, axis = 1)\n",
    "amazon[\"our_positions\"] = amazon[\"Position\"].diff()\n",
    "difference_in_shares_owned = amazon[\"our_positions\"].diff()\n",
    "amazon['portfolioValue'] = amazon[\"Position\"] * amazon[\"Adj Close\"]\n",
    "amazon[\"our_holdings\"] = (amazon[\"our_positions\"].multiply(amazon[\"Adj Close\"],axis = 0))\n",
    "our_capital = 200000\n",
    "amazon[\"our_cash\"] = our_capital - difference_in_shares_owned.multiply(amazon[\"Adj Close\"]).cumsum()\n",
    "amazon[\"total\"] = amazon[\"our_cash\"] + amazon[\"our_holdings\"]\n",
    "amazon['return'] = amazon[\"total\"].pct_change()\n",
    "np.sqrt(253) *amazon['return'].mean() / amazon['return'].std()"
   ]
  },
  {
   "cell_type": "markdown",
   "metadata": {},
   "source": [
    "### <font color = red> Answer 3 </font>\n",
    "\n",
    "    The answer is _____Apple_______ ."
   ]
  },
  {
   "cell_type": "markdown",
   "metadata": {},
   "source": [
    "### <font color = blue> 👉 Question 4</font>. Let’s suppose that you started from a `$200,000` capital base for each of the three securities.\n",
    "\n",
    "### Disregarding commission, how much will you have in the end in your account for each of the securities as a result of the mean-reversion strategy-based trading?"
   ]
  },
  {
   "cell_type": "markdown",
   "metadata": {},
   "source": [
    "### Below are the lines of code that lead to an answer:"
   ]
  },
  {
   "cell_type": "code",
   "execution_count": 30,
   "metadata": {},
   "outputs": [
    {
     "data": {
      "text/plain": [
       "-0.024751578068445967"
      ]
     },
     "execution_count": 30,
     "metadata": {},
     "output_type": "execute_result"
    }
   ],
   "source": [
    "def data(ticker):\n",
    "        return web.DataReader(ticker, \"yahoo\", start, end)\n",
    "google = data('GOOGL')[['Adj Close']]\n",
    "\n",
    "google['SMA42'] = google['Adj Close'].rolling(42).mean()\n",
    "\n",
    "google['ShortPoint'] = google['Adj Close'].rolling(42).mean() + google['Adj Close'].rolling(42).std() * 2\n",
    "google['LongPoint'] = google['Adj Close'].rolling(42).mean() - google['Adj Close'].rolling(42).std() * 2\n",
    "\n",
    "google[\"Position\"] = 0\n",
    "google = google.dropna()\n",
    "\n",
    "def long_or_short(x):\n",
    "    if x[\"Adj Close\"] < x[\"LongPoint\"]:\n",
    "        return 1\n",
    "    elif x[\"Adj Close\"] > x[\"ShortPoint\"]:\n",
    "        return -1\n",
    "    else:\n",
    "        return 0\n",
    "\n",
    "google[\"Position\"] = google.apply(long_or_short, axis = 1)\n",
    "google[\"our_positions\"] = google[\"Position\"].diff()\n",
    "difference_in_shares_owned = google[\"our_positions\"].diff()\n",
    "google['portfolioValue'] = google[\"Position\"] * google[\"Adj Close\"]\n",
    "google[\"our_holdings\"] = (google[\"our_positions\"].multiply(google[\"Adj Close\"],axis = 0))\n",
    "our_capital = 200000\n",
    "google[\"our_cash\"] = our_capital - difference_in_shares_owned.multiply(google[\"Adj Close\"]).cumsum()\n",
    "google[\"total\"] = google[\"our_cash\"] + google[\"our_holdings\"]\n",
    "google['return'] = google[\"total\"].pct_change()\n",
    "np.sqrt(253) *google['return'].mean() / google['return'].std()"
   ]
  },
  {
   "cell_type": "code",
   "execution_count": 31,
   "metadata": {},
   "outputs": [
    {
     "data": {
      "text/html": [
       "<div>\n",
       "<style scoped>\n",
       "    .dataframe tbody tr th:only-of-type {\n",
       "        vertical-align: middle;\n",
       "    }\n",
       "\n",
       "    .dataframe tbody tr th {\n",
       "        vertical-align: top;\n",
       "    }\n",
       "\n",
       "    .dataframe thead th {\n",
       "        text-align: right;\n",
       "    }\n",
       "</style>\n",
       "<table border=\"1\" class=\"dataframe\">\n",
       "  <thead>\n",
       "    <tr style=\"text-align: right;\">\n",
       "      <th></th>\n",
       "      <th>Adj Close</th>\n",
       "      <th>SMA42</th>\n",
       "      <th>ShortPoint</th>\n",
       "      <th>LongPoint</th>\n",
       "      <th>Position</th>\n",
       "      <th>our_positions</th>\n",
       "      <th>portfolioValue</th>\n",
       "      <th>our_holdings</th>\n",
       "      <th>our_cash</th>\n",
       "      <th>total</th>\n",
       "      <th>return</th>\n",
       "    </tr>\n",
       "    <tr>\n",
       "      <th>Date</th>\n",
       "      <th></th>\n",
       "      <th></th>\n",
       "      <th></th>\n",
       "      <th></th>\n",
       "      <th></th>\n",
       "      <th></th>\n",
       "      <th></th>\n",
       "      <th></th>\n",
       "      <th></th>\n",
       "      <th></th>\n",
       "      <th></th>\n",
       "    </tr>\n",
       "  </thead>\n",
       "  <tbody>\n",
       "    <tr>\n",
       "      <th>2020-06-30</th>\n",
       "      <td>1418.050</td>\n",
       "      <td>1407.680</td>\n",
       "      <td>1484.485</td>\n",
       "      <td>1330.875</td>\n",
       "      <td>0</td>\n",
       "      <td>0.000</td>\n",
       "      <td>0.000</td>\n",
       "      <td>0.000</td>\n",
       "      <td>199988.702</td>\n",
       "      <td>199988.702</td>\n",
       "      <td>0.000</td>\n",
       "    </tr>\n",
       "  </tbody>\n",
       "</table>\n",
       "</div>"
      ],
      "text/plain": [
       "            Adj Close    SMA42  ShortPoint  LongPoint  Position  \\\n",
       "Date                                                              \n",
       "2020-06-30   1418.050 1407.680    1484.485   1330.875         0   \n",
       "\n",
       "            our_positions  portfolioValue  our_holdings   our_cash      total  \\\n",
       "Date                                                                            \n",
       "2020-06-30          0.000           0.000         0.000 199988.702 199988.702   \n",
       "\n",
       "            return  \n",
       "Date                \n",
       "2020-06-30   0.000  "
      ]
     },
     "execution_count": 31,
     "metadata": {},
     "output_type": "execute_result"
    }
   ],
   "source": [
    "google.tail(1)"
   ]
  },
  {
   "cell_type": "code",
   "execution_count": 32,
   "metadata": {},
   "outputs": [
    {
     "data": {
      "text/html": [
       "<div>\n",
       "<style scoped>\n",
       "    .dataframe tbody tr th:only-of-type {\n",
       "        vertical-align: middle;\n",
       "    }\n",
       "\n",
       "    .dataframe tbody tr th {\n",
       "        vertical-align: top;\n",
       "    }\n",
       "\n",
       "    .dataframe thead th {\n",
       "        text-align: right;\n",
       "    }\n",
       "</style>\n",
       "<table border=\"1\" class=\"dataframe\">\n",
       "  <thead>\n",
       "    <tr style=\"text-align: right;\">\n",
       "      <th></th>\n",
       "      <th>Adj Close</th>\n",
       "      <th>SMA42</th>\n",
       "      <th>ShortPoint</th>\n",
       "      <th>LongPoint</th>\n",
       "      <th>Position</th>\n",
       "      <th>our_positions</th>\n",
       "      <th>portfolioValue</th>\n",
       "      <th>our_holdings</th>\n",
       "      <th>our_cash</th>\n",
       "      <th>total</th>\n",
       "      <th>return</th>\n",
       "    </tr>\n",
       "    <tr>\n",
       "      <th>Date</th>\n",
       "      <th></th>\n",
       "      <th></th>\n",
       "      <th></th>\n",
       "      <th></th>\n",
       "      <th></th>\n",
       "      <th></th>\n",
       "      <th></th>\n",
       "      <th></th>\n",
       "      <th></th>\n",
       "      <th></th>\n",
       "      <th></th>\n",
       "    </tr>\n",
       "  </thead>\n",
       "  <tbody>\n",
       "    <tr>\n",
       "      <th>2020-06-30</th>\n",
       "      <td>90.322</td>\n",
       "      <td>81.373</td>\n",
       "      <td>92.260</td>\n",
       "      <td>70.485</td>\n",
       "      <td>0</td>\n",
       "      <td>0.000</td>\n",
       "      <td>0.000</td>\n",
       "      <td>0.000</td>\n",
       "      <td>200026.256</td>\n",
       "      <td>200026.256</td>\n",
       "      <td>0.000</td>\n",
       "    </tr>\n",
       "  </tbody>\n",
       "</table>\n",
       "</div>"
      ],
      "text/plain": [
       "            Adj Close  SMA42  ShortPoint  LongPoint  Position  our_positions  \\\n",
       "Date                                                                           \n",
       "2020-06-30     90.322 81.373      92.260     70.485         0          0.000   \n",
       "\n",
       "            portfolioValue  our_holdings   our_cash      total  return  \n",
       "Date                                                                    \n",
       "2020-06-30           0.000         0.000 200026.256 200026.256   0.000  "
      ]
     },
     "execution_count": 32,
     "metadata": {},
     "output_type": "execute_result"
    }
   ],
   "source": [
    "apple.tail(1)"
   ]
  },
  {
   "cell_type": "code",
   "execution_count": 33,
   "metadata": {},
   "outputs": [
    {
     "data": {
      "text/html": [
       "<div>\n",
       "<style scoped>\n",
       "    .dataframe tbody tr th:only-of-type {\n",
       "        vertical-align: middle;\n",
       "    }\n",
       "\n",
       "    .dataframe tbody tr th {\n",
       "        vertical-align: top;\n",
       "    }\n",
       "\n",
       "    .dataframe thead th {\n",
       "        text-align: right;\n",
       "    }\n",
       "</style>\n",
       "<table border=\"1\" class=\"dataframe\">\n",
       "  <thead>\n",
       "    <tr style=\"text-align: right;\">\n",
       "      <th></th>\n",
       "      <th>Adj Close</th>\n",
       "      <th>SMA42</th>\n",
       "      <th>ShortPoint</th>\n",
       "      <th>LongPoint</th>\n",
       "      <th>Position</th>\n",
       "      <th>our_positions</th>\n",
       "      <th>portfolioValue</th>\n",
       "      <th>our_holdings</th>\n",
       "      <th>our_cash</th>\n",
       "      <th>total</th>\n",
       "      <th>return</th>\n",
       "    </tr>\n",
       "    <tr>\n",
       "      <th>Date</th>\n",
       "      <th></th>\n",
       "      <th></th>\n",
       "      <th></th>\n",
       "      <th></th>\n",
       "      <th></th>\n",
       "      <th></th>\n",
       "      <th></th>\n",
       "      <th></th>\n",
       "      <th></th>\n",
       "      <th></th>\n",
       "      <th></th>\n",
       "    </tr>\n",
       "  </thead>\n",
       "  <tbody>\n",
       "    <tr>\n",
       "      <th>2020-06-30</th>\n",
       "      <td>2758.820</td>\n",
       "      <td>2509.088</td>\n",
       "      <td>2784.758</td>\n",
       "      <td>2233.417</td>\n",
       "      <td>0</td>\n",
       "      <td>0.000</td>\n",
       "      <td>0.000</td>\n",
       "      <td>0.000</td>\n",
       "      <td>200002.470</td>\n",
       "      <td>200002.470</td>\n",
       "      <td>0.000</td>\n",
       "    </tr>\n",
       "  </tbody>\n",
       "</table>\n",
       "</div>"
      ],
      "text/plain": [
       "            Adj Close    SMA42  ShortPoint  LongPoint  Position  \\\n",
       "Date                                                              \n",
       "2020-06-30   2758.820 2509.088    2784.758   2233.417         0   \n",
       "\n",
       "            our_positions  portfolioValue  our_holdings   our_cash      total  \\\n",
       "Date                                                                            \n",
       "2020-06-30          0.000           0.000         0.000 200002.470 200002.470   \n",
       "\n",
       "            return  \n",
       "Date                \n",
       "2020-06-30   0.000  "
      ]
     },
     "execution_count": 33,
     "metadata": {},
     "output_type": "execute_result"
    }
   ],
   "source": [
    "amazon.tail(1)"
   ]
  },
  {
   "cell_type": "markdown",
   "metadata": {},
   "source": [
    "### <font color = red> Answer 4 </font>\n",
    "\n",
    "    GOOGL : ______199988.702______ \n",
    "    \n",
    "    AAPL  : _____200026.256_______ \n",
    "     \n",
    "    AMZN  : ____200002.470________ \n",
    "Note: I only buy/sell 1 share of stock in this my backtest. In our class, we buy 200\n",
    "    "
   ]
  },
  {
   "cell_type": "markdown",
   "metadata": {},
   "source": [
    "### <font color = blue> 👉 Question 5</font>. What are the compound annual growth rates of each of the securities, based on the current mean-reversion strategy-based trading? "
   ]
  },
  {
   "cell_type": "markdown",
   "metadata": {},
   "source": [
    "### Below are the lines of code that lead to an answer:"
   ]
  },
  {
   "cell_type": "code",
   "execution_count": 34,
   "metadata": {},
   "outputs": [
    {
     "name": "stderr",
     "output_type": "stream",
     "text": [
      "<ipython-input-34-16adbf263b6c>:1: RuntimeWarning: invalid value encountered in double_scalars\n",
      "  (google.tail(1).total.values[0] - our_capital) ** (365/len(google))\n"
     ]
    },
    {
     "data": {
      "text/plain": [
       "nan"
      ]
     },
     "execution_count": 34,
     "metadata": {},
     "output_type": "execute_result"
    }
   ],
   "source": [
    "(google.tail(1).total.values[0] - our_capital) ** (365/len(google))"
   ]
  },
  {
   "cell_type": "code",
   "execution_count": 35,
   "metadata": {},
   "outputs": [
    {
     "data": {
      "text/plain": [
       "0.8315592917746042"
      ]
     },
     "execution_count": 35,
     "metadata": {},
     "output_type": "execute_result"
    }
   ],
   "source": [
    "(apple.tail(1).total.values[0] - our_capital) ** (365/len(apple)) - 1"
   ]
  },
  {
   "cell_type": "code",
   "execution_count": 36,
   "metadata": {},
   "outputs": [
    {
     "data": {
      "text/plain": [
       "0.1822890983978629"
      ]
     },
     "execution_count": 36,
     "metadata": {},
     "output_type": "execute_result"
    }
   ],
   "source": [
    "(amazon.tail(1).total.values[0] - our_capital) ** (365/len(apple)) - 1"
   ]
  },
  {
   "cell_type": "markdown",
   "metadata": {},
   "source": [
    "### <font color = red> Answer 5 </font>\n",
    "\n",
    "    GOOGL : ____________ \n",
    "    \n",
    "    AAPL  : ____________ \n",
    "     \n",
    "    AMZN  : ____________ "
   ]
  },
  {
   "cell_type": "markdown",
   "metadata": {},
   "source": [
    "## 👇 Questions 6 to 8 ask you to build, execute, and backtest a momentum strategy."
   ]
  },
  {
   "cell_type": "markdown",
   "metadata": {},
   "source": [
    "###  <font color = blue> 👉 Question 6. </font> Our securities of interest are Goldman Sachs (`GS`) and JP Morgan Chase (`JPM`) stock. The time period for analysis is from November 2013 to October 2021.\n",
    "\n",
    "### Here’s our use of the momentum indicator, reflecting the moving averages of stock prices for trend following.\n",
    "\n",
    "### The two moving windows are 24 days and 58 days.\n",
    "\n",
    "### Calculate and visualize the maximum drawdowns and the longest drawdown periods for `GS` and `JPM`."
   ]
  },
  {
   "cell_type": "markdown",
   "metadata": {},
   "source": [
    "### Below are the lines of code that lead to an answer:"
   ]
  },
  {
   "cell_type": "code",
   "execution_count": null,
   "metadata": {},
   "outputs": [],
   "source": []
  },
  {
   "cell_type": "markdown",
   "metadata": {},
   "source": [
    "### <font color = red> Answer 6 (`visualization component`) is presented in the cell below: </font>"
   ]
  },
  {
   "cell_type": "code",
   "execution_count": null,
   "metadata": {},
   "outputs": [],
   "source": []
  },
  {
   "cell_type": "markdown",
   "metadata": {},
   "source": [
    "### <font color = red> Answer 6 </font>\n",
    "    \n",
    "    As to GS,\n",
    "    \n",
    "    The maximum drawdown is about ____________ percentage points.\n",
    "    The longest drawdown period lasts for _____________ days.\n",
    "    \n",
    "    As to JPM,\n",
    "    \n",
    "    The maximum drawdown is about ____________ percentage points.\n",
    "    The longest drawdown period lasts for _____________ days.\n",
    "    "
   ]
  },
  {
   "cell_type": "markdown",
   "metadata": {},
   "source": [
    "###  <font color = blue> 👉 Question 7. </font>  If you had started with a capital of $300,000 for each of the three securities, how much would be left in your account after trading according to your above strategies for `GS` and `JPM`?"
   ]
  },
  {
   "cell_type": "markdown",
   "metadata": {},
   "source": [
    "### Below are the lines of code that lead to an answer:"
   ]
  },
  {
   "cell_type": "code",
   "execution_count": null,
   "metadata": {},
   "outputs": [],
   "source": []
  },
  {
   "cell_type": "markdown",
   "metadata": {},
   "source": [
    "### <font color = red> Answer 7 </font>\n",
    "\n",
    "    The answer is ____________________________ ."
   ]
  },
  {
   "cell_type": "markdown",
   "metadata": {},
   "source": [
    "###  <font color = blue> 👉 Question 8. </font> Using the current momentum strategy, how many trading opportunities were there for GS and JPM?"
   ]
  },
  {
   "cell_type": "markdown",
   "metadata": {},
   "source": [
    "### Below are the lines of code that lead to an answer:"
   ]
  },
  {
   "cell_type": "code",
   "execution_count": null,
   "metadata": {},
   "outputs": [],
   "source": []
  },
  {
   "cell_type": "markdown",
   "metadata": {},
   "source": [
    "### <font color = red> Answer 8 </font>\n",
    "\n",
    "    The answer is ____________________________ ."
   ]
  },
  {
   "cell_type": "markdown",
   "metadata": {},
   "source": [
    "## 👇 Questions 9 and 10 ask you to build, execute, and backtest a strategy using `Supervised Machine Learning (here, classification)`."
   ]
  },
  {
   "cell_type": "markdown",
   "metadata": {},
   "source": [
    "###  <font color = blue> 👉 Question 9. </font> Our securities of interest is Nasdaq 100 Index (`qqq`). The time period for analysis is from November 2013 to October 2021.\n",
    "\n",
    "### Please predict tomorrow’s index level (market movement) from the index levels of the past seven days (including today).\n",
    "\n",
    "### The machine learning algorithms of choice are `Support Vector Machine`, `Random Forest`, and `Ada Boost`.\n",
    "\n",
    "### Between the three algorithms, which one shows the greatest overfitting?"
   ]
  },
  {
   "cell_type": "markdown",
   "metadata": {},
   "source": [
    "### Below are the lines of code that lead to an answer:"
   ]
  },
  {
   "cell_type": "code",
   "execution_count": null,
   "metadata": {},
   "outputs": [],
   "source": []
  },
  {
   "cell_type": "markdown",
   "metadata": {},
   "source": [
    "### <font color = red> Answer 9 </font>\n",
    "\n",
    "    The answer is ____________________________ ."
   ]
  },
  {
   "cell_type": "markdown",
   "metadata": {},
   "source": [
    "###  <font color = blue> 👉 Question 10. </font> Estimate the Sharpe Ratio of your strategies based on the three algorithms."
   ]
  },
  {
   "cell_type": "markdown",
   "metadata": {},
   "source": [
    "### Below are the lines of code that lead to an answer:"
   ]
  },
  {
   "cell_type": "code",
   "execution_count": null,
   "metadata": {},
   "outputs": [],
   "source": []
  },
  {
   "cell_type": "markdown",
   "metadata": {},
   "source": [
    "### <font color = red> Answer 10 </font>\n",
    "\n",
    "    Support Vector Machine : ____________ \n",
    "    \n",
    "    Random Forest  : ____________ \n",
    "     \n",
    "    Ada Boost  : ____________ "
   ]
  },
  {
   "cell_type": "markdown",
   "metadata": {},
   "source": [
    "> 💯 “Thank you for putting your efforts into the individual assessment questions” 😊"
   ]
  }
 ],
 "metadata": {
  "kernelspec": {
   "display_name": "Python 3",
   "language": "python",
   "name": "python3"
  },
  "language_info": {
   "codemirror_mode": {
    "name": "ipython",
    "version": 3
   },
   "file_extension": ".py",
   "mimetype": "text/x-python",
   "name": "python",
   "nbconvert_exporter": "python",
   "pygments_lexer": "ipython3",
   "version": "3.8.3"
  }
 },
 "nbformat": 4,
 "nbformat_minor": 1
}
